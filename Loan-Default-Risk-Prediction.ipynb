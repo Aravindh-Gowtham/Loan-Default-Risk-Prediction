{
 "cells": [
  {
   "cell_type": "code",
   "execution_count": 1,
   "metadata": {
    "colab": {
     "base_uri": "https://localhost:8080/"
    },
    "execution": {
     "iopub.execute_input": "2021-12-07T22:33:27.580851Z",
     "iopub.status.busy": "2021-12-07T22:33:27.580199Z",
     "iopub.status.idle": "2021-12-07T22:33:27.692421Z",
     "shell.execute_reply": "2021-12-07T22:33:27.691686Z",
     "shell.execute_reply.started": "2021-12-07T22:33:27.580807Z"
    },
    "id": "bIez0gntmKTX",
    "outputId": "b5cc5436-5d8d-431f-d012-314f6b7fe3d5"
   },
   "outputs": [
    {
     "data": {
      "text/plain": [
       "0"
      ]
     },
     "execution_count": 1,
     "metadata": {},
     "output_type": "execute_result"
    }
   ],
   "source": [
    "import numpy as np\n",
    "import numpy_financial as npf\n",
    "import pandas as pd\n",
    "import gc       \n",
    "import os \n",
    "\n",
    "# clear out any old junk\n",
    "gc.collect()"
   ]
  },
  {
   "cell_type": "code",
   "execution_count": 2,
   "metadata": {},
   "outputs": [],
   "source": [
    "!gdown --id 1ns3OatdBxs4n331JZDsESjM4mjdKEZqf\n",
    "!gdown --id 1riVtDIP0vUrJg0KY811MYjXvlHZz8Fvp\n",
    "!gdown --id 1yii5h-OKUZ4PSdCf15Ul4AhIybr9_Lzj\n",
    "!gdown --id 1QcMx8wpN0fInwXEZy8h4etdnfgV4uvMc\n",
    "!gdown --id 1tOaRs8W8TCgl-igWIaVUteDwFY8JMGiu\n",
    "!gdown --id 1gXj_eUS9T4G_m1zmWotaeGbGyxYqO7xg\n",
    "!gdown --id 1qiEABfF1BLyQtjIQYNfMhWT2pgboS1h7\n",
    "!gdown --id 1bTZNT4lNKHc_DlJvV-nDHwXQFXFB2aCb\n",
    "!gdown --id 1xOf0rrhW1_rQx1UzwbJxCZ1IJ8Kqb3tw\n",
    "!gdown --id 1z8zzLwxa47nvl1XrzxFsP2ZPfjVzSYhb"
   ]
  },
  {
   "cell_type": "markdown",
   "metadata": {
    "id": "RrwGCkSCmKTb"
   },
   "source": [
    "### bureau_balance.csv"
   ]
  },
  {
   "cell_type": "code",
   "execution_count": 3,
   "metadata": {
    "colab": {
     "base_uri": "https://localhost:8080/"
    },
    "execution": {
     "iopub.execute_input": "2021-12-07T22:36:58.779543Z",
     "iopub.status.busy": "2021-12-07T22:36:58.779266Z",
     "iopub.status.idle": "2021-12-07T22:37:55.600150Z",
     "shell.execute_reply": "2021-12-07T22:37:55.599294Z",
     "shell.execute_reply.started": "2021-12-07T22:36:58.779514Z"
    },
    "id": "k5gUL_IkmKTc",
    "outputId": "57c12ae3-20c0-4486-ae80-32d95d84a80a"
   },
   "outputs": [
    {
     "name": "stdout",
     "output_type": "stream",
     "text": [
      "(27299925, 3) - shape of bureau_balance table\n",
      "(817396, 9) - shape of bb_status table\n",
      "(721535, 9) - shape of bb_status_12 table\n"
     ]
    },
    {
     "data": {
      "text/plain": [
       "0"
      ]
     },
     "execution_count": 3,
     "metadata": {},
     "output_type": "execute_result"
    }
   ],
   "source": [
    "bureau_balance = pd.read_csv('bureau_balance.csv')                                           # read the table\n",
    "print(bureau_balance.shape, \"- shape of bureau_balance table\")\n",
    "bb_status = pd.crosstab(bureau_balance.SK_ID_BUREAU, bureau_balance.STATUS, margins = True)             # create pivot table\n",
    "bb_status.columns = ['BB_'+column for column in bb_status.columns]\n",
    "print(bb_status.shape, \"- shape of bb_status table\")\n",
    "bureau_balance_12 = bureau_balance[bureau_balance.MONTHS_BALANCE > -24]                                 # filter - last 12 months only\n",
    "bb_status_12 = pd.crosstab(bureau_balance_12.SK_ID_BUREAU, bureau_balance_12.STATUS, margins = True)    # pivot table on filtered data\n",
    "bb_status_12.columns = ['BB12_'+column for column in bb_status_12.columns]\n",
    "print(bb_status_12.shape, \"- shape of bb_status_12 table\")\n",
    "\n",
    "del bureau_balance            # we are keeping bb_status and bb_status_12 - we can drop the original table and the filtered version\n",
    "del bureau_balance_12\n",
    "gc.collect()"
   ]
  },
  {
   "cell_type": "markdown",
   "metadata": {
    "id": "KzV3dJ4MmKTc"
   },
   "source": [
    "### bureau.csv"
   ]
  },
  {
   "cell_type": "code",
   "execution_count": 4,
   "metadata": {
    "colab": {
     "base_uri": "https://localhost:8080/"
    },
    "execution": {
     "iopub.execute_input": "2021-12-07T22:34:25.545600Z",
     "iopub.status.busy": "2021-12-07T22:34:25.545378Z",
     "iopub.status.idle": "2021-12-07T22:34:32.230420Z",
     "shell.execute_reply": "2021-12-07T22:34:32.229492Z",
     "shell.execute_reply.started": "2021-12-07T22:34:25.545573Z"
    },
    "id": "bR5vJdmAmKTd",
    "outputId": "9304fa1f-27ab-4011-895f-676cde36cc5e"
   },
   "outputs": [
    {
     "name": "stdout",
     "output_type": "stream",
     "text": [
      "(1716428, 17) - shape of bureau table\n",
      "(693550, 34) - shape of bureau table after merging in bb_status tables\n",
      "(133231, 36) - shape of numeric bureau features (incl index)\n",
      "(133231, 23) - shape of categorical bureau features (incl index)\n"
     ]
    },
    {
     "data": {
      "text/plain": [
       "0"
      ]
     },
     "execution_count": 4,
     "metadata": {},
     "output_type": "execute_result"
    }
   ],
   "source": [
    "bureau = pd.read_csv('bureau.csv')\n",
    "print(bureau.shape, \"- shape of bureau table\")\n",
    "\n",
    "bureau = bureau.merge(bb_status, left_on = 'SK_ID_BUREAU', right_on = 'SK_ID_BUREAU')               # merge the tables\n",
    "bureau = bureau.merge(bb_status_12, left_on = 'SK_ID_BUREAU', right_on = 'SK_ID_BUREAU')            # merge the tables\n",
    "bureau = bureau.drop(['SK_ID_BUREAU'], axis = 1)                                                    # no longer need this key\n",
    "print(bureau.shape, \"- shape of bureau table after merging in bb_status tables\")                    # should be 652,144 x 34\n",
    "bureau.columns = ['BU_'+column if column !='SK_ID_CURR' else column for column in bureau.columns]   # things that start with BU_ came from bureau\n",
    "\n",
    "# ratio features\n",
    "bureau['OD_ratio'] = bureau['BU_AMT_CREDIT_SUM_OVERDUE'] / bureau['BU_AMT_CREDIT_SUM_DEBT']   # proportion of debt that is overdue\n",
    "bureau['Credit_ratio'] = bureau['BU_AMT_CREDIT_SUM'] / bureau['BU_AMT_CREDIT_SUM_LIMIT']      # proportion of credit line used\n",
    "bureau['Debt_ratio'] = bureau['BU_AMT_CREDIT_SUM_DEBT'] / bureau['BU_AMT_CREDIT_SUM']         # debt percentage\n",
    "bureau['REMAIN_CRED'] = bureau['BU_AMT_CREDIT_SUM'] - bureau['BU_AMT_CREDIT_SUM_DEBT'] - bureau['BU_AMT_CREDIT_SUM_LIMIT']\n",
    "bureau['AC_RATIO'] = bureau['BU_AMT_ANNUITY'] / bureau['BU_AMT_CREDIT_SUM']\n",
    "\n",
    "# numeric features for bureau\n",
    "bureau_num = bureau.groupby(by=['SK_ID_CURR']).mean().reset_index()                                 # group the numeric features by SK_ID_CURR\n",
    "print(bureau_num.shape, \"- shape of numeric bureau features (incl index)\")                          # should be 132,250 x 34\n",
    "\n",
    "# categorical feagures for bureau\n",
    "bureau_cat = pd.get_dummies(bureau.select_dtypes('object'))                                         # this got rid of the SK_ID_CURR column ...\n",
    "bureau_cat['SK_ID_CURR'] = bureau['SK_ID_CURR']                                                     # so we have to replace it\n",
    "bureau_cat = bureau_cat.groupby(by = ['SK_ID_CURR']).mean().reset_index()                           # tried sum - didn't change anything\n",
    "print(bureau_cat.shape, \"- shape of categorical bureau features (incl index)\")                      # should be 132,250 x 23\n",
    "\n",
    "# count feature for bureau\n",
    "bureau_count = bureau.groupby(by = ['SK_ID_CURR'])['BU_CREDIT_ACTIVE'].count().reset_index()\n",
    "bureau_count.rename(columns={'BU_CREDIT_ACTIVE':'COUNT_of_BUREAU'})   \n",
    "\n",
    "# we are keeping bureau_num, bureau_cat and bureau_count - all will be merged into training data\n",
    "del bureau                   # no longer need this table - its contents were transformed into bureau_num, bureau_cat, bureau_count\n",
    "del bb_status                # no longer need this table - already merged into bureau\n",
    "del bb_status_12             # no longer need this table - already merged into bureau\n",
    "gc.collect()"
   ]
  },
  {
   "cell_type": "markdown",
   "metadata": {
    "id": "WMDYK5aFmKTe"
   },
   "source": [
    "### previous_application.csv"
   ]
  },
  {
   "cell_type": "code",
   "execution_count": 5,
   "metadata": {
    "colab": {
     "base_uri": "https://localhost:8080/"
    },
    "execution": {
     "iopub.execute_input": "2021-12-07T22:34:32.232778Z",
     "iopub.status.busy": "2021-12-07T22:34:32.232560Z",
     "iopub.status.idle": "2021-12-07T22:34:32.293807Z",
     "shell.execute_reply": "2021-12-07T22:34:32.292941Z",
     "shell.execute_reply.started": "2021-12-07T22:34:32.232752Z"
    },
    "id": "T-1nQzNSmKTe",
    "outputId": "69a035c3-ba8e-40e1-c84c-71b4d4be2da2"
   },
   "outputs": [
    {
     "name": "stderr",
     "output_type": "stream",
     "text": [
      "/opt/anaconda3/lib/python3.8/site-packages/numpy_financial/_financial.py:550: RuntimeWarning: divide by zero encountered in double_scalars\n",
      "  return g / gp\n",
      "/opt/anaconda3/lib/python3.8/site-packages/numpy_financial/_financial.py:545: RuntimeWarning: invalid value encountered in double_scalars\n",
      "  g = y + t1*x + p*(t1 - 1) * (r*w + 1) / r\n",
      "/opt/anaconda3/lib/python3.8/site-packages/numpy_financial/_financial.py:547: RuntimeWarning: invalid value encountered in double_scalars\n",
      "  - p*(t1 - 1) * (r*w + 1) / (r**2)\n",
      "/opt/anaconda3/lib/python3.8/site-packages/numpy_financial/_financial.py:548: RuntimeWarning: invalid value encountered in double_scalars\n",
      "  + n*p*t2 * (r*w + 1) / r\n",
      "/opt/anaconda3/lib/python3.8/site-packages/numpy_financial/_financial.py:550: RuntimeWarning: invalid value encountered in double_scalars\n",
      "  return g / gp\n"
     ]
    }
   ],
   "source": [
    "# This is the original function that derives CALC_RATE, INTEREST_PAID and INT_PRINC.\n",
    "import numpy_financial as npf\n",
    "def calc_rate(row):\n",
    "   return npf.rate(row['CNT_PAYMENT'], -row['AMT_ANNUITY'], row['AMT_CREDIT'], 0, guess = 0.05, maxiter = 10)\n",
    "previous = pd.read_csv('previous_application.csv')\n",
    "previous['CALC_RATE'] = previous.apply(calc_rate, axis=1)\n",
    "previous['INTEREST_PAID'] = previous['AMT_ANNUITY'] * previous['CNT_PAYMENT'] - previous['AMT_CREDIT']\n",
    "previous['INT_PRINC'] = previous['INTEREST_PAID'] / previous['AMT_CREDIT']"
   ]
  },
  {
   "cell_type": "code",
   "execution_count": 6,
   "metadata": {
    "colab": {
     "base_uri": "https://localhost:8080/"
    },
    "execution": {
     "iopub.execute_input": "2021-12-07T22:34:32.295147Z",
     "iopub.status.busy": "2021-12-07T22:34:32.294944Z",
     "iopub.status.idle": "2021-12-07T22:34:57.872519Z",
     "shell.execute_reply": "2021-12-07T22:34:57.871613Z",
     "shell.execute_reply.started": "2021-12-07T22:34:32.295121Z"
    },
    "id": "UvAOIlRpmKTf",
    "outputId": "e13bee9f-cc85-439c-8d1f-dbf32df2bdf0"
   },
   "outputs": [
    {
     "name": "stdout",
     "output_type": "stream",
     "text": [
      "(338857, 27) - shape of numeric features (incl index)\n",
      "(338857, 144) - shape of categorical features (incl index)\n",
      "CPU times: user 6 s, sys: 3.76 s, total: 9.76 s\n",
      "Wall time: 11.4 s\n"
     ]
    },
    {
     "data": {
      "text/plain": [
       "0"
      ]
     },
     "execution_count": 6,
     "metadata": {},
     "output_type": "execute_result"
    }
   ],
   "source": [
    "%%time\n",
    "\n",
    "\n",
    "previous.drop(['SK_ID_PREV'], axis = 1, inplace = True)                          # don't need this, merging everything straight to train/test\n",
    "\n",
    "previous.columns = ['PR_'+column if column !='SK_ID_CURR' else column for column in previous.columns]\n",
    "previous['PR_DAYS_LAST_DUE'].replace({365243: np.nan}, inplace = True)\n",
    "previous['PR_DAYS_LAST_DUE_1ST_VERSION'].replace(365243, np.nan, inplace = True)\n",
    "previous['PR_DAYS_FIRST_DUE'].replace(365243, np.nan, inplace = True)\n",
    "previous['PR_DAYS_TERMINATION'].replace({365243: np.nan}, inplace = True)\n",
    "previous['PR_DAYS_FIRST_DRAWING'].replace({365243: np.nan}, inplace = True)\n",
    "previous['PR_CApp_RATIO'] = previous['PR_AMT_CREDIT'] / previous['PR_AMT_APPLICATION'] \n",
    "previous['PR_AG_RATIO'] = previous['PR_AMT_APPLICATION'] / previous['PR_AMT_GOODS_PRICE'] \n",
    "previous['PR_CAnnRATIO'] = previous['PR_AMT_CREDIT'] / previous['PR_AMT_ANNUITY'] \n",
    "previous['PR_CG_RATIO'] = previous['PR_AMT_CREDIT'] / previous['PR_AMT_GOODS_PRICE'] \n",
    "\n",
    "# Create numeric features by grouping on SK_ID_CURR and finding group means\n",
    "previous_num = previous.groupby(by=['SK_ID_CURR']).mean().reset_index()         # group the numeric features by SK_ID_CURR\n",
    "print(previous_num.shape, \"- shape of numeric features (incl index)\")         \n",
    "\n",
    "# Create categorical features by creating dummies and then taking group means\n",
    "previous_cat = pd.get_dummies(previous.select_dtypes('object'))                 # this got rid of the SK_ID_CURR column ...\n",
    "previous_cat['SK_ID_CURR'] = previous['SK_ID_CURR']                             # so we have to replace it\n",
    "previous_cat = previous_cat.groupby(by = ['SK_ID_CURR']).mean().reset_index()   # could try sum as well.\n",
    "print(previous_cat.shape, \"- shape of categorical features (incl index)\")     \n",
    "\n",
    "# we can keep previous_num and previous_cat - these will be merged into training data\n",
    "del previous                 # no longer need this table - its contents were transformed into previous_num, previous_cat\n",
    "gc.collect()"
   ]
  },
  {
   "cell_type": "markdown",
   "metadata": {
    "id": "uTl-jhBwmKTg"
   },
   "source": [
    "### installment_payments.csv"
   ]
  },
  {
   "cell_type": "code",
   "execution_count": 7,
   "metadata": {
    "colab": {
     "base_uri": "https://localhost:8080/"
    },
    "execution": {
     "iopub.execute_input": "2021-12-07T22:34:57.873918Z",
     "iopub.status.busy": "2021-12-07T22:34:57.873707Z",
     "iopub.status.idle": "2021-12-07T22:35:31.044627Z",
     "shell.execute_reply": "2021-12-07T22:35:31.043601Z",
     "shell.execute_reply.started": "2021-12-07T22:34:57.873891Z"
    },
    "id": "yLAkuoYTmKTg",
    "outputId": "73042a08-2e31-485a-ae48-bfb68cb2284e"
   },
   "outputs": [
    {
     "name": "stdout",
     "output_type": "stream",
     "text": [
      "(339587, 11) - shape of numeric features (incl index)\n"
     ]
    },
    {
     "data": {
      "text/plain": [
       "0"
      ]
     },
     "execution_count": 7,
     "metadata": {},
     "output_type": "execute_result"
    }
   ],
   "source": [
    "inst = pd.read_csv('installments_payments.csv')\n",
    "inst.drop(['SK_ID_PREV'], axis=1, inplace = True)\n",
    "inst.columns = ['IP_'+column if column != 'SK_ID_CURR' else column for column in inst.columns]\n",
    "\n",
    "inst['PAY_PERCENT'] = inst['IP_AMT_INSTALMENT'] / inst['IP_AMT_PAYMENT']\n",
    "inst['PAY_DIFF'] = inst['IP_AMT_INSTALMENT'] - inst['IP_AMT_PAYMENT']\n",
    "inst['DPD'] = inst['IP_DAYS_ENTRY_PAYMENT'] - inst['IP_DAYS_INSTALMENT']\n",
    "inst['DPD'] = inst['DPD'].apply(lambda x: x if x>0 else 0)\n",
    "inst['DBD'] = inst['IP_DAYS_INSTALMENT'] - inst['IP_DAYS_ENTRY_PAYMENT']\n",
    "inst['DBD'] = inst['DBD'].apply(lambda x: x if x>0 else 0)\n",
    "\n",
    "inst_num = inst.groupby(by=['SK_ID_CURR']).mean().reset_index()         # group the numeric features by SK_ID_CURR\n",
    "print(inst_num.shape, \"- shape of numeric features (incl index)\")       # should be 339,587 x 7\n",
    "\n",
    "# we will keep inst_num and get rid of inst\n",
    "del inst                    # don't need this anymore\n",
    "gc.collect()"
   ]
  },
  {
   "cell_type": "markdown",
   "metadata": {
    "id": "dGv_UqEDmKTh"
   },
   "source": [
    "#### POS_CASH_balance.csv"
   ]
  },
  {
   "cell_type": "code",
   "execution_count": 8,
   "metadata": {
    "colab": {
     "base_uri": "https://localhost:8080/"
    },
    "execution": {
     "iopub.execute_input": "2021-12-07T22:35:31.046352Z",
     "iopub.status.busy": "2021-12-07T22:35:31.046117Z",
     "iopub.status.idle": "2021-12-07T22:35:44.647193Z",
     "shell.execute_reply": "2021-12-07T22:35:44.646403Z",
     "shell.execute_reply.started": "2021-12-07T22:35:31.046325Z"
    },
    "id": "Sv1xnxMlmKTh",
    "outputId": "82c27f51-18a0-484d-b4c4-4badffa31da8"
   },
   "outputs": [
    {
     "name": "stdout",
     "output_type": "stream",
     "text": [
      "(337252, 6) - shape of numeric features (incl index)\n",
      "(337252, 10) - shape of categorical features (incl index)\n"
     ]
    },
    {
     "data": {
      "text/plain": [
       "16"
      ]
     },
     "execution_count": 8,
     "metadata": {},
     "output_type": "execute_result"
    }
   ],
   "source": [
    "pos = pd.read_csv('POS_CASH_balance.csv')\n",
    "pos.drop(['SK_ID_PREV'], axis=1, inplace = True)\n",
    "pos.columns = ['PO_'+column if column != 'SK_ID_CURR' else column for column in pos.columns]\n",
    "\n",
    "pos_num = pos.groupby(by=['SK_ID_CURR']).mean().reset_index()            # group the numeric features by SK_ID_CURR\n",
    "print(pos_num.shape, \"- shape of numeric features (incl index)\")         # should be 337,252 x 6\n",
    "\n",
    "pos_cat = pd.get_dummies(pos.select_dtypes('object'))                    # this got rid of the SK_ID_CURR column ...\n",
    "pos_cat['SK_ID_CURR'] = pos['SK_ID_CURR']                                # so we have to replace it\n",
    "pos_cat = pos_cat.groupby(by = ['SK_ID_CURR']).mean().reset_index()      # could try sum as well.\n",
    "print(pos_cat.shape, \"- shape of categorical features (incl index)\")     # should be 337,252 x 10\n",
    "\n",
    "# we will keep pos_num and pos_cat\n",
    "del pos\n",
    "gc.collect()"
   ]
  },
  {
   "cell_type": "markdown",
   "metadata": {
    "id": "qCDa0VFjmKTh"
   },
   "source": [
    "### credit_card_balance.csv"
   ]
  },
  {
   "cell_type": "code",
   "execution_count": 9,
   "metadata": {
    "colab": {
     "base_uri": "https://localhost:8080/"
    },
    "execution": {
     "iopub.execute_input": "2021-12-07T22:35:44.649224Z",
     "iopub.status.busy": "2021-12-07T22:35:44.648841Z",
     "iopub.status.idle": "2021-12-07T22:35:57.573830Z",
     "shell.execute_reply": "2021-12-07T22:35:57.572852Z",
     "shell.execute_reply.started": "2021-12-07T22:35:44.649159Z"
    },
    "id": "1GIuWZxrmKTh",
    "outputId": "a7814a57-9919-4491-db53-5e4b7d40491a"
   },
   "outputs": [
    {
     "name": "stdout",
     "output_type": "stream",
     "text": [
      "(103558, 24) - shape of numeric features (incl index)\n",
      "(103558, 8) - shape of categorical features (incl index)\n"
     ]
    },
    {
     "data": {
      "text/plain": [
       "13"
      ]
     },
     "execution_count": 9,
     "metadata": {},
     "output_type": "execute_result"
    }
   ],
   "source": [
    "ccb = pd.read_csv('credit_card_balance.csv')\n",
    "ccb.drop(['SK_ID_PREV'], axis=1, inplace = True)\n",
    "ccb.columns = ['CC_'+column if column != 'SK_ID_CURR' else column for column in ccb.columns]\n",
    "\n",
    "ccb['DRAW_RATIO'] = ccb['CC_AMT_DRAWINGS_CURRENT'] / ccb['CC_CNT_DRAWINGS_CURRENT']\n",
    "ccb['RECEIVE_RATIO'] = ccb['CC_AMT_RECIVABLE'] / ccb['CC_AMT_RECEIVABLE_PRINCIPAL']\n",
    "ccb['RECEIVE_PER'] = ccb['CC_AMT_RECIVABLE'] / ccb['CC_AMT_TOTAL_RECEIVABLE']\n",
    "\n",
    "ccb_num = ccb.groupby(by=['SK_ID_CURR']).mean().reset_index()            # group the numeric features by SK_ID_CURR\n",
    "print(ccb_num.shape, \"- shape of numeric features (incl index)\")         # should be 103,558 x 24\n",
    "\n",
    "ccb_cat = pd.get_dummies(ccb.select_dtypes('object'))                    # this got rid of the SK_ID_CURR column ...\n",
    "ccb_cat['SK_ID_CURR'] = ccb['SK_ID_CURR']                                # so we have to replace it\n",
    "ccb_cat = ccb_cat.groupby(by = ['SK_ID_CURR']).mean().reset_index()      # could try sum as well.\n",
    "print(ccb_cat.shape, \"- shape of categorical features (incl index)\")     # should be 103,558 x 8\n",
    "\n",
    "# we will keep ccb_num and ccb_cat\n",
    "del ccb\n",
    "gc.collect()"
   ]
  },
  {
   "cell_type": "markdown",
   "metadata": {
    "execution": {
     "iopub.execute_input": "2021-12-02T03:37:04.083911Z",
     "iopub.status.busy": "2021-12-02T03:37:04.083609Z",
     "iopub.status.idle": "2021-12-02T03:37:04.088459Z",
     "shell.execute_reply": "2021-12-02T03:37:04.087582Z",
     "shell.execute_reply.started": "2021-12-02T03:37:04.08388Z"
    },
    "id": "X9UlZg0bmKTi"
   },
   "source": [
    "### Treatment of main data set (train or test)"
   ]
  },
  {
   "cell_type": "code",
   "execution_count": 10,
   "metadata": {
    "execution": {
     "iopub.execute_input": "2021-12-07T22:35:57.575661Z",
     "iopub.status.busy": "2021-12-07T22:35:57.575411Z",
     "iopub.status.idle": "2021-12-07T22:35:58.473014Z",
     "shell.execute_reply": "2021-12-07T22:35:58.472045Z",
     "shell.execute_reply.started": "2021-12-07T22:35:57.575632Z"
    },
    "id": "ezfdbQLpmKTi"
   },
   "outputs": [],
   "source": [
    "train = pd.read_csv('application_train.csv')                          # either application_train or application_test depending on switch\n",
    "\n",
    "# column drops - Megan suggested many others\n",
    "train.drop(['ORGANIZATION_TYPE'], axis = 1, inplace = True)              # creates 58 dummies that don't do jack shit - let's get rid of this\n",
    "\n",
    "# clean up this mess\n",
    "train['FLAG_365243'] = train['DAYS_EMPLOYED'] == 365243                   # these people are mostly pensioners\n",
    "train['DAYS_EMPLOYED'].replace({365243: np.nan}, inplace = True)         # DAYS_EMPLOYED is a powerful feature when you clean up the junk\n",
    "\n",
    "# ratio features\n",
    "train['CI_ratio'] = train['AMT_CREDIT'] / train['AMT_INCOME_TOTAL']        # credit-to-income ratio\n",
    "train['AI_ratio'] = train['AMT_ANNUITY'] / train['AMT_INCOME_TOTAL']       # annuity-to-income ratio\n",
    "train['AC_ratio'] = train['AMT_CREDIT'] / train['AMT_ANNUITY']             # credit to annuity - basically the term of the loan in years\n",
    "train['CG_ratio'] = train['AMT_CREDIT'] / train['AMT_GOODS_PRICE']         # credit to goods price ratio - how much was financed?\n",
    "\n",
    "# log features\n",
    "train['log_INCOME'] = np.log(train['AMT_INCOME_TOTAL'])                    # log of income\n",
    "train['log_ANNUITY'] = np.log(train['AMT_ANNUITY'])                        # log of annuity\n",
    "train['log_CREDIT'] = np.log(train['AMT_CREDIT'])                          # log of credit\n",
    "train['log_GOODS'] = np.log(train['AMT_GOODS_PRICE'])                      # log of goods price\n",
    "\n",
    "# flag features\n",
    "train['FLAG_CG_ratio'] = train['AMT_CREDIT'] > train['AMT_GOODS_PRICE']     # FLAG if you borrowed more than the price of the item\n",
    "train['DAYS_ID_4200'] = train['DAYS_ID_PUBLISH'] < -4200                   # IDs more than about 14 years old are from USSR\n",
    "\n",
    "# cleanup the ext_sources - and remember, these are columns 40:42 in the training data but 39:41 in the test data!\n",
    "# objective of this section is to replace missing scores with the ROW average for the scores we do have, and not impute any scores.\n",
    "# if you don't have ANY scores, you get a score of 0.2 - but there are only about a dozen of these\n",
    "train['AVG_EXT'] = train.iloc[:,(40-0):(43-0)].sum(axis=1)/(3- train.iloc[:,(40-0):(43-0)].isnull().sum(axis=1))\n",
    "train['AVG_EXT'].replace(np.nan, 0.2, inplace = True)       \n",
    "train.EXT_SOURCE_1.fillna(train.AVG_EXT, inplace=True)\n",
    "train.EXT_SOURCE_2.fillna(train.AVG_EXT, inplace=True)\n",
    "train.EXT_SOURCE_3.fillna(train.AVG_EXT, inplace=True)\n",
    "train['EXT_SOURCE_MAX'] = np.max(train.iloc[:,(40-0):(43-0)], axis = 1)\n",
    "train['EXT_SOURCE_MIN'] = np.min(train.iloc[:,(40-0):(43-0)], axis = 1)"
   ]
  },
  {
   "cell_type": "code",
   "execution_count": 11,
   "metadata": {
    "colab": {
     "base_uri": "https://localhost:8080/"
    },
    "execution": {
     "iopub.execute_input": "2021-12-07T22:35:58.475817Z",
     "iopub.status.busy": "2021-12-07T22:35:58.475506Z",
     "iopub.status.idle": "2021-12-07T22:36:00.171680Z",
     "shell.execute_reply": "2021-12-07T22:36:00.170863Z",
     "shell.execute_reply.started": "2021-12-07T22:35:58.475776Z"
    },
    "id": "QuNkpAdumKTi",
    "outputId": "631cbc21-962c-48e5-c837-3f454ca1846c"
   },
   "outputs": [
    {
     "name": "stdout",
     "output_type": "stream",
     "text": [
      "(307511, 416) - shape of data after all merges\n"
     ]
    },
    {
     "data": {
      "text/plain": [
       "0"
      ]
     },
     "execution_count": 11,
     "metadata": {},
     "output_type": "execute_result"
    }
   ],
   "source": [
    "# merge features\n",
    "DFs_to_merge = [bureau_cat, bureau_count, bureau_num, ccb_cat, ccb_num,\n",
    " inst_num, pos_cat, pos_num, previous_cat, previous_num]\n",
    "\n",
    "for i in range (0, len(DFs_to_merge)):\n",
    "    train = train.merge(DFs_to_merge[i], on='SK_ID_CURR', how='left')\n",
    "\n",
    "print(train.shape, \"- shape of data after all merges\") \n",
    "\n",
    "# get rid of any +/- infinity we might have missed\n",
    "train.replace([np.inf, -np.inf], 0, inplace = True)\n",
    "\n",
    "gc.collect()"
   ]
  },
  {
   "cell_type": "code",
   "execution_count": 12,
   "metadata": {
    "execution": {
     "iopub.execute_input": "2021-12-07T22:35:57.575661Z",
     "iopub.status.busy": "2021-12-07T22:35:57.575411Z",
     "iopub.status.idle": "2021-12-07T22:35:58.473014Z",
     "shell.execute_reply": "2021-12-07T22:35:58.472045Z",
     "shell.execute_reply.started": "2021-12-07T22:35:57.575632Z"
    },
    "id": "eHQStcHymKTi"
   },
   "outputs": [],
   "source": [
    "test = pd.read_csv('application_test.csv')                          # either application_test or application_test depending on switch\n",
    "\n",
    "# column drops - Megan suggested many others\n",
    "test.drop(['ORGANIZATION_TYPE'], axis = 1, inplace = True)              # creates 58 dummies that don't do jack shit - let's get rid of this\n",
    "\n",
    "# clean up this mess\n",
    "test['FLAG_365243'] = test['DAYS_EMPLOYED'] == 365243                   # these people are mostly pensioners\n",
    "test['DAYS_EMPLOYED'].replace({365243: np.nan}, inplace = True)         # DAYS_EMPLOYED is a powerful feature when you clean up the junk\n",
    "\n",
    "# ratio features\n",
    "test['CI_ratio'] = test['AMT_CREDIT'] / test['AMT_INCOME_TOTAL']        # credit-to-income ratio\n",
    "test['AI_ratio'] = test['AMT_ANNUITY'] / test['AMT_INCOME_TOTAL']       # annuity-to-income ratio\n",
    "test['AC_ratio'] = test['AMT_CREDIT'] / test['AMT_ANNUITY']             # credit to annuity - basically the term of the loan in years\n",
    "test['CG_ratio'] = test['AMT_CREDIT'] / test['AMT_GOODS_PRICE']         # credit to goods price ratio - how much was financed?\n",
    "\n",
    "# log features\n",
    "test['log_INCOME'] = np.log(test['AMT_INCOME_TOTAL'])                    # log of income\n",
    "test['log_ANNUITY'] = np.log(test['AMT_ANNUITY'])                        # log of annuity\n",
    "test['log_CREDIT'] = np.log(test['AMT_CREDIT'])                          # log of credit\n",
    "test['log_GOODS'] = np.log(test['AMT_GOODS_PRICE'])                      # log of goods price\n",
    "\n",
    "# flag features\n",
    "test['FLAG_CG_ratio'] = test['AMT_CREDIT'] > test['AMT_GOODS_PRICE']     # FLAG if you borrowed more than the price of the item\n",
    "test['DAYS_ID_4200'] = test['DAYS_ID_PUBLISH'] < -4200                   # IDs more than about 14 years old are from USSR\n",
    "\n",
    "# cleanup the ext_sources - and remember, these are columns 40:42 in the testing data but 39:41 in the test data!\n",
    "# objective of this section is to replace missing scores with the ROW average for the scores we do have, and not impute any scores.\n",
    "# if you don't have ANY scores, you get a score of 0.2 - but there are only about a dozen of these\n",
    "test['AVG_EXT'] = test.iloc[:,(40-0):(43-0)].sum(axis=1)/(3- test.iloc[:,(40-0):(43-0)].isnull().sum(axis=1))\n",
    "test['AVG_EXT'].replace(np.nan, 0.2, inplace = True)       \n",
    "test.EXT_SOURCE_1.fillna(test.AVG_EXT, inplace=True)\n",
    "test.EXT_SOURCE_2.fillna(test.AVG_EXT, inplace=True)\n",
    "test.EXT_SOURCE_3.fillna(test.AVG_EXT, inplace=True)\n",
    "test['EXT_SOURCE_MAX'] = np.max(test.iloc[:,(40-0):(43-0)], axis = 1)\n",
    "test['EXT_SOURCE_MIN'] = np.min(test.iloc[:,(40-0):(43-0)], axis = 1)"
   ]
  },
  {
   "cell_type": "code",
   "execution_count": 13,
   "metadata": {},
   "outputs": [
    {
     "data": {
      "text/plain": [
       "(307511, 122)"
      ]
     },
     "execution_count": 13,
     "metadata": {},
     "output_type": "execute_result"
    }
   ],
   "source": [
    "train = pd.read_csv('application_train.csv')\n",
    "train.shape"
   ]
  },
  {
   "cell_type": "code",
   "execution_count": 14,
   "metadata": {},
   "outputs": [
    {
     "data": {
      "text/plain": [
       "(48744, 121)"
      ]
     },
     "execution_count": 14,
     "metadata": {},
     "output_type": "execute_result"
    }
   ],
   "source": [
    "test = pd.read_csv('application_test.csv')        \n",
    "test.shape"
   ]
  },
  {
   "cell_type": "code",
   "execution_count": 15,
   "metadata": {
    "colab": {
     "base_uri": "https://localhost:8080/"
    },
    "execution": {
     "iopub.execute_input": "2021-12-07T22:35:58.475817Z",
     "iopub.status.busy": "2021-12-07T22:35:58.475506Z",
     "iopub.status.idle": "2021-12-07T22:36:00.171680Z",
     "shell.execute_reply": "2021-12-07T22:36:00.170863Z",
     "shell.execute_reply.started": "2021-12-07T22:35:58.475776Z"
    },
    "id": "J8zPlNYJmKTj",
    "outputId": "39e5c90b-cc85-425d-9a9d-281c108230f1"
   },
   "outputs": [
    {
     "name": "stdout",
     "output_type": "stream",
     "text": [
      "(48744, 402) - shape of data after all merges\n"
     ]
    }
   ],
   "source": [
    "# merge features\n",
    "DFs_to_merge = [bureau_cat, bureau_count, bureau_num, ccb_cat, ccb_num,\n",
    " inst_num, pos_cat, pos_num, previous_cat, previous_num]\n",
    "\n",
    "for i in range (0, len(DFs_to_merge)):\n",
    "    test = test.merge(DFs_to_merge[i], on='SK_ID_CURR', how='left')\n",
    "\n",
    "print(test.shape, \"- shape of data after all merges\") \n",
    "\n",
    "# get rid of any +/- infinity we might have missed\n",
    "test.replace([np.inf, -np.inf], 0, inplace = True)\n"
   ]
  },
  {
   "cell_type": "code",
   "execution_count": 16,
   "metadata": {
    "colab": {
     "base_uri": "https://localhost:8080/"
    },
    "id": "r-BeTp0pmKTj",
    "outputId": "bb2be928-fe7f-452f-d4fe-5b00ece0e57e"
   },
   "outputs": [
    {
     "data": {
      "text/plain": [
       "64"
      ]
     },
     "execution_count": 16,
     "metadata": {},
     "output_type": "execute_result"
    }
   ],
   "source": [
    "gc.collect()"
   ]
  },
  {
   "cell_type": "markdown",
   "metadata": {
    "id": "d0zIecHmmKTk"
   },
   "source": [
    "### Import packages"
   ]
  },
  {
   "cell_type": "code",
   "execution_count": 17,
   "metadata": {
    "execution": {
     "iopub.execute_input": "2021-12-08T02:51:26.465420Z",
     "iopub.status.busy": "2021-12-08T02:51:26.464881Z",
     "iopub.status.idle": "2021-12-08T02:51:26.708446Z",
     "shell.execute_reply": "2021-12-08T02:51:26.707039Z",
     "shell.execute_reply.started": "2021-12-08T02:51:26.465353Z"
    },
    "id": "SRLwWdmpmKTk"
   },
   "outputs": [],
   "source": [
    "# standard Python tools\n",
    "import numpy as np\n",
    "import pandas as pd\n",
    "import matplotlib.pyplot as plt\n",
    "import seaborn as sns\n",
    "\n",
    "# special tools for working in Kaggle\n",
    "import joblib   # save and load ML models\n",
    "import gc       # garbage collection\n",
    "import os \n",
    "import sklearn\n",
    "import warnings\n",
    "# from sklearn.utils.testing import ignore_warnings\n",
    "from sklearn.exceptions import ConvergenceWarning\n",
    "\n",
    "# preprocessing steps\n",
    "from sklearn.pipeline import Pipeline\n",
    "from sklearn.impute import SimpleImputer\n",
    "from sklearn.compose import ColumnTransformer\n",
    "from sklearn.preprocessing import OneHotEncoder\n",
    "from sklearn.preprocessing import StandardScaler\n",
    "from sklearn.model_selection import train_test_split\n",
    "\n",
    "# machine learning models and tools\n",
    "from sklearn.linear_model import LogisticRegression\n",
    "from sklearn.tree import DecisionTreeClassifier\n",
    "from sklearn.ensemble import RandomForestClassifier\n",
    "from sklearn.model_selection import GridSearchCV\n",
    "from sklearn.metrics import confusion_matrix\n",
    "# from xgboost import XGBClassifier, XGBRegressor\n",
    "# from xgboost import plot_importance\n",
    "from sklearn.svm import SVR\n",
    "from sklearn import datasets\n",
    "\n",
    "# Optuna\n",
    "import optuna as op\n",
    "from optuna import create_study\n",
    "\n",
    "# cross validation and metrics - remember this competition is scored as area under curve\n",
    "from sklearn.metrics import roc_auc_score, roc_curve\n",
    "from sklearn.model_selection import KFold, StratifiedKFold\n",
    "\n",
    "# clear out any old junk\n",
    "gc.collect()\n",
    "\n",
    "# Let's put this someplace where it's easy to find - the proportion split between training and validation data\n",
    "train_size = 0.75"
   ]
  },
  {
   "cell_type": "markdown",
   "metadata": {
    "id": "aRr3_bHmmKTk"
   },
   "source": [
    "### Read the training data"
   ]
  },
  {
   "cell_type": "code",
   "execution_count": 18,
   "metadata": {
    "colab": {
     "base_uri": "https://localhost:8080/",
     "height": 347
    },
    "execution": {
     "iopub.execute_input": "2021-12-08T02:51:26.711178Z",
     "iopub.status.busy": "2021-12-08T02:51:26.710912Z",
     "iopub.status.idle": "2021-12-08T02:51:28.856576Z",
     "shell.execute_reply": "2021-12-08T02:51:28.855584Z",
     "shell.execute_reply.started": "2021-12-08T02:51:26.711147Z"
    },
    "id": "Y8bjIQ_-mKTk",
    "outputId": "e1fb717b-432d-4a62-f7be-8f14a1aae489"
   },
   "outputs": [
    {
     "data": {
      "text/html": [
       "<div>\n",
       "<style scoped>\n",
       "    .dataframe tbody tr th:only-of-type {\n",
       "        vertical-align: middle;\n",
       "    }\n",
       "\n",
       "    .dataframe tbody tr th {\n",
       "        vertical-align: top;\n",
       "    }\n",
       "\n",
       "    .dataframe thead th {\n",
       "        text-align: right;\n",
       "    }\n",
       "</style>\n",
       "<table border=\"1\" class=\"dataframe\">\n",
       "  <thead>\n",
       "    <tr style=\"text-align: right;\">\n",
       "      <th></th>\n",
       "      <th>SK_ID_CURR</th>\n",
       "      <th>TARGET</th>\n",
       "      <th>NAME_CONTRACT_TYPE</th>\n",
       "      <th>CODE_GENDER</th>\n",
       "      <th>FLAG_OWN_CAR</th>\n",
       "      <th>FLAG_OWN_REALTY</th>\n",
       "      <th>CNT_CHILDREN</th>\n",
       "      <th>AMT_INCOME_TOTAL</th>\n",
       "      <th>AMT_CREDIT</th>\n",
       "      <th>AMT_ANNUITY</th>\n",
       "      <th>AMT_GOODS_PRICE</th>\n",
       "      <th>NAME_TYPE_SUITE</th>\n",
       "      <th>NAME_INCOME_TYPE</th>\n",
       "      <th>NAME_EDUCATION_TYPE</th>\n",
       "      <th>NAME_FAMILY_STATUS</th>\n",
       "      <th>NAME_HOUSING_TYPE</th>\n",
       "      <th>REGION_POPULATION_RELATIVE</th>\n",
       "      <th>DAYS_BIRTH</th>\n",
       "      <th>DAYS_EMPLOYED</th>\n",
       "      <th>DAYS_REGISTRATION</th>\n",
       "      <th>DAYS_ID_PUBLISH</th>\n",
       "      <th>OWN_CAR_AGE</th>\n",
       "      <th>FLAG_MOBIL</th>\n",
       "      <th>FLAG_EMP_PHONE</th>\n",
       "      <th>FLAG_WORK_PHONE</th>\n",
       "      <th>FLAG_CONT_MOBILE</th>\n",
       "      <th>FLAG_PHONE</th>\n",
       "      <th>FLAG_EMAIL</th>\n",
       "      <th>OCCUPATION_TYPE</th>\n",
       "      <th>CNT_FAM_MEMBERS</th>\n",
       "      <th>REGION_RATING_CLIENT</th>\n",
       "      <th>REGION_RATING_CLIENT_W_CITY</th>\n",
       "      <th>WEEKDAY_APPR_PROCESS_START</th>\n",
       "      <th>HOUR_APPR_PROCESS_START</th>\n",
       "      <th>REG_REGION_NOT_LIVE_REGION</th>\n",
       "      <th>REG_REGION_NOT_WORK_REGION</th>\n",
       "      <th>LIVE_REGION_NOT_WORK_REGION</th>\n",
       "      <th>REG_CITY_NOT_LIVE_CITY</th>\n",
       "      <th>REG_CITY_NOT_WORK_CITY</th>\n",
       "      <th>LIVE_CITY_NOT_WORK_CITY</th>\n",
       "      <th>ORGANIZATION_TYPE</th>\n",
       "      <th>EXT_SOURCE_1</th>\n",
       "      <th>EXT_SOURCE_2</th>\n",
       "      <th>EXT_SOURCE_3</th>\n",
       "      <th>APARTMENTS_AVG</th>\n",
       "      <th>BASEMENTAREA_AVG</th>\n",
       "      <th>YEARS_BEGINEXPLUATATION_AVG</th>\n",
       "      <th>YEARS_BUILD_AVG</th>\n",
       "      <th>COMMONAREA_AVG</th>\n",
       "      <th>ELEVATORS_AVG</th>\n",
       "      <th>ENTRANCES_AVG</th>\n",
       "      <th>FLOORSMAX_AVG</th>\n",
       "      <th>FLOORSMIN_AVG</th>\n",
       "      <th>LANDAREA_AVG</th>\n",
       "      <th>LIVINGAPARTMENTS_AVG</th>\n",
       "      <th>LIVINGAREA_AVG</th>\n",
       "      <th>NONLIVINGAPARTMENTS_AVG</th>\n",
       "      <th>NONLIVINGAREA_AVG</th>\n",
       "      <th>APARTMENTS_MODE</th>\n",
       "      <th>BASEMENTAREA_MODE</th>\n",
       "      <th>YEARS_BEGINEXPLUATATION_MODE</th>\n",
       "      <th>YEARS_BUILD_MODE</th>\n",
       "      <th>COMMONAREA_MODE</th>\n",
       "      <th>ELEVATORS_MODE</th>\n",
       "      <th>ENTRANCES_MODE</th>\n",
       "      <th>FLOORSMAX_MODE</th>\n",
       "      <th>FLOORSMIN_MODE</th>\n",
       "      <th>LANDAREA_MODE</th>\n",
       "      <th>LIVINGAPARTMENTS_MODE</th>\n",
       "      <th>LIVINGAREA_MODE</th>\n",
       "      <th>NONLIVINGAPARTMENTS_MODE</th>\n",
       "      <th>NONLIVINGAREA_MODE</th>\n",
       "      <th>APARTMENTS_MEDI</th>\n",
       "      <th>BASEMENTAREA_MEDI</th>\n",
       "      <th>YEARS_BEGINEXPLUATATION_MEDI</th>\n",
       "      <th>YEARS_BUILD_MEDI</th>\n",
       "      <th>COMMONAREA_MEDI</th>\n",
       "      <th>ELEVATORS_MEDI</th>\n",
       "      <th>ENTRANCES_MEDI</th>\n",
       "      <th>FLOORSMAX_MEDI</th>\n",
       "      <th>FLOORSMIN_MEDI</th>\n",
       "      <th>LANDAREA_MEDI</th>\n",
       "      <th>LIVINGAPARTMENTS_MEDI</th>\n",
       "      <th>LIVINGAREA_MEDI</th>\n",
       "      <th>NONLIVINGAPARTMENTS_MEDI</th>\n",
       "      <th>NONLIVINGAREA_MEDI</th>\n",
       "      <th>FONDKAPREMONT_MODE</th>\n",
       "      <th>HOUSETYPE_MODE</th>\n",
       "      <th>TOTALAREA_MODE</th>\n",
       "      <th>WALLSMATERIAL_MODE</th>\n",
       "      <th>EMERGENCYSTATE_MODE</th>\n",
       "      <th>OBS_30_CNT_SOCIAL_CIRCLE</th>\n",
       "      <th>DEF_30_CNT_SOCIAL_CIRCLE</th>\n",
       "      <th>OBS_60_CNT_SOCIAL_CIRCLE</th>\n",
       "      <th>DEF_60_CNT_SOCIAL_CIRCLE</th>\n",
       "      <th>DAYS_LAST_PHONE_CHANGE</th>\n",
       "      <th>FLAG_DOCUMENT_2</th>\n",
       "      <th>FLAG_DOCUMENT_3</th>\n",
       "      <th>FLAG_DOCUMENT_4</th>\n",
       "      <th>FLAG_DOCUMENT_5</th>\n",
       "      <th>FLAG_DOCUMENT_6</th>\n",
       "      <th>FLAG_DOCUMENT_7</th>\n",
       "      <th>FLAG_DOCUMENT_8</th>\n",
       "      <th>FLAG_DOCUMENT_9</th>\n",
       "      <th>FLAG_DOCUMENT_10</th>\n",
       "      <th>FLAG_DOCUMENT_11</th>\n",
       "      <th>FLAG_DOCUMENT_12</th>\n",
       "      <th>FLAG_DOCUMENT_13</th>\n",
       "      <th>FLAG_DOCUMENT_14</th>\n",
       "      <th>FLAG_DOCUMENT_15</th>\n",
       "      <th>FLAG_DOCUMENT_16</th>\n",
       "      <th>FLAG_DOCUMENT_17</th>\n",
       "      <th>FLAG_DOCUMENT_18</th>\n",
       "      <th>FLAG_DOCUMENT_19</th>\n",
       "      <th>FLAG_DOCUMENT_20</th>\n",
       "      <th>FLAG_DOCUMENT_21</th>\n",
       "      <th>AMT_REQ_CREDIT_BUREAU_HOUR</th>\n",
       "      <th>AMT_REQ_CREDIT_BUREAU_DAY</th>\n",
       "      <th>AMT_REQ_CREDIT_BUREAU_WEEK</th>\n",
       "      <th>AMT_REQ_CREDIT_BUREAU_MON</th>\n",
       "      <th>AMT_REQ_CREDIT_BUREAU_QRT</th>\n",
       "      <th>AMT_REQ_CREDIT_BUREAU_YEAR</th>\n",
       "    </tr>\n",
       "  </thead>\n",
       "  <tbody>\n",
       "    <tr>\n",
       "      <th>0</th>\n",
       "      <td>100002</td>\n",
       "      <td>1</td>\n",
       "      <td>Cash loans</td>\n",
       "      <td>M</td>\n",
       "      <td>N</td>\n",
       "      <td>Y</td>\n",
       "      <td>0</td>\n",
       "      <td>202500.0</td>\n",
       "      <td>406597.5</td>\n",
       "      <td>24700.5</td>\n",
       "      <td>351000.0</td>\n",
       "      <td>Unaccompanied</td>\n",
       "      <td>Working</td>\n",
       "      <td>Secondary / secondary special</td>\n",
       "      <td>Single / not married</td>\n",
       "      <td>House / apartment</td>\n",
       "      <td>0.018801</td>\n",
       "      <td>-9461</td>\n",
       "      <td>-637</td>\n",
       "      <td>-3648.0</td>\n",
       "      <td>-2120</td>\n",
       "      <td>NaN</td>\n",
       "      <td>1</td>\n",
       "      <td>1</td>\n",
       "      <td>0</td>\n",
       "      <td>1</td>\n",
       "      <td>1</td>\n",
       "      <td>0</td>\n",
       "      <td>Laborers</td>\n",
       "      <td>1.0</td>\n",
       "      <td>2</td>\n",
       "      <td>2</td>\n",
       "      <td>WEDNESDAY</td>\n",
       "      <td>10</td>\n",
       "      <td>0</td>\n",
       "      <td>0</td>\n",
       "      <td>0</td>\n",
       "      <td>0</td>\n",
       "      <td>0</td>\n",
       "      <td>0</td>\n",
       "      <td>Business Entity Type 3</td>\n",
       "      <td>0.083037</td>\n",
       "      <td>0.262949</td>\n",
       "      <td>0.139376</td>\n",
       "      <td>0.0247</td>\n",
       "      <td>0.0369</td>\n",
       "      <td>0.9722</td>\n",
       "      <td>0.6192</td>\n",
       "      <td>0.0143</td>\n",
       "      <td>0.00</td>\n",
       "      <td>0.0690</td>\n",
       "      <td>0.0833</td>\n",
       "      <td>0.1250</td>\n",
       "      <td>0.0369</td>\n",
       "      <td>0.0202</td>\n",
       "      <td>0.0190</td>\n",
       "      <td>0.0000</td>\n",
       "      <td>0.0000</td>\n",
       "      <td>0.0252</td>\n",
       "      <td>0.0383</td>\n",
       "      <td>0.9722</td>\n",
       "      <td>0.6341</td>\n",
       "      <td>0.0144</td>\n",
       "      <td>0.0000</td>\n",
       "      <td>0.0690</td>\n",
       "      <td>0.0833</td>\n",
       "      <td>0.1250</td>\n",
       "      <td>0.0377</td>\n",
       "      <td>0.022</td>\n",
       "      <td>0.0198</td>\n",
       "      <td>0.0</td>\n",
       "      <td>0.0</td>\n",
       "      <td>0.0250</td>\n",
       "      <td>0.0369</td>\n",
       "      <td>0.9722</td>\n",
       "      <td>0.6243</td>\n",
       "      <td>0.0144</td>\n",
       "      <td>0.00</td>\n",
       "      <td>0.0690</td>\n",
       "      <td>0.0833</td>\n",
       "      <td>0.1250</td>\n",
       "      <td>0.0375</td>\n",
       "      <td>0.0205</td>\n",
       "      <td>0.0193</td>\n",
       "      <td>0.0000</td>\n",
       "      <td>0.00</td>\n",
       "      <td>reg oper account</td>\n",
       "      <td>block of flats</td>\n",
       "      <td>0.0149</td>\n",
       "      <td>Stone, brick</td>\n",
       "      <td>No</td>\n",
       "      <td>2.0</td>\n",
       "      <td>2.0</td>\n",
       "      <td>2.0</td>\n",
       "      <td>2.0</td>\n",
       "      <td>-1134.0</td>\n",
       "      <td>0</td>\n",
       "      <td>1</td>\n",
       "      <td>0</td>\n",
       "      <td>0</td>\n",
       "      <td>0</td>\n",
       "      <td>0</td>\n",
       "      <td>0</td>\n",
       "      <td>0</td>\n",
       "      <td>0</td>\n",
       "      <td>0</td>\n",
       "      <td>0</td>\n",
       "      <td>0</td>\n",
       "      <td>0</td>\n",
       "      <td>0</td>\n",
       "      <td>0</td>\n",
       "      <td>0</td>\n",
       "      <td>0</td>\n",
       "      <td>0</td>\n",
       "      <td>0</td>\n",
       "      <td>0</td>\n",
       "      <td>0.0</td>\n",
       "      <td>0.0</td>\n",
       "      <td>0.0</td>\n",
       "      <td>0.0</td>\n",
       "      <td>0.0</td>\n",
       "      <td>1.0</td>\n",
       "    </tr>\n",
       "    <tr>\n",
       "      <th>1</th>\n",
       "      <td>100003</td>\n",
       "      <td>0</td>\n",
       "      <td>Cash loans</td>\n",
       "      <td>F</td>\n",
       "      <td>N</td>\n",
       "      <td>N</td>\n",
       "      <td>0</td>\n",
       "      <td>270000.0</td>\n",
       "      <td>1293502.5</td>\n",
       "      <td>35698.5</td>\n",
       "      <td>1129500.0</td>\n",
       "      <td>Family</td>\n",
       "      <td>State servant</td>\n",
       "      <td>Higher education</td>\n",
       "      <td>Married</td>\n",
       "      <td>House / apartment</td>\n",
       "      <td>0.003541</td>\n",
       "      <td>-16765</td>\n",
       "      <td>-1188</td>\n",
       "      <td>-1186.0</td>\n",
       "      <td>-291</td>\n",
       "      <td>NaN</td>\n",
       "      <td>1</td>\n",
       "      <td>1</td>\n",
       "      <td>0</td>\n",
       "      <td>1</td>\n",
       "      <td>1</td>\n",
       "      <td>0</td>\n",
       "      <td>Core staff</td>\n",
       "      <td>2.0</td>\n",
       "      <td>1</td>\n",
       "      <td>1</td>\n",
       "      <td>MONDAY</td>\n",
       "      <td>11</td>\n",
       "      <td>0</td>\n",
       "      <td>0</td>\n",
       "      <td>0</td>\n",
       "      <td>0</td>\n",
       "      <td>0</td>\n",
       "      <td>0</td>\n",
       "      <td>School</td>\n",
       "      <td>0.311267</td>\n",
       "      <td>0.622246</td>\n",
       "      <td>NaN</td>\n",
       "      <td>0.0959</td>\n",
       "      <td>0.0529</td>\n",
       "      <td>0.9851</td>\n",
       "      <td>0.7960</td>\n",
       "      <td>0.0605</td>\n",
       "      <td>0.08</td>\n",
       "      <td>0.0345</td>\n",
       "      <td>0.2917</td>\n",
       "      <td>0.3333</td>\n",
       "      <td>0.0130</td>\n",
       "      <td>0.0773</td>\n",
       "      <td>0.0549</td>\n",
       "      <td>0.0039</td>\n",
       "      <td>0.0098</td>\n",
       "      <td>0.0924</td>\n",
       "      <td>0.0538</td>\n",
       "      <td>0.9851</td>\n",
       "      <td>0.8040</td>\n",
       "      <td>0.0497</td>\n",
       "      <td>0.0806</td>\n",
       "      <td>0.0345</td>\n",
       "      <td>0.2917</td>\n",
       "      <td>0.3333</td>\n",
       "      <td>0.0128</td>\n",
       "      <td>0.079</td>\n",
       "      <td>0.0554</td>\n",
       "      <td>0.0</td>\n",
       "      <td>0.0</td>\n",
       "      <td>0.0968</td>\n",
       "      <td>0.0529</td>\n",
       "      <td>0.9851</td>\n",
       "      <td>0.7987</td>\n",
       "      <td>0.0608</td>\n",
       "      <td>0.08</td>\n",
       "      <td>0.0345</td>\n",
       "      <td>0.2917</td>\n",
       "      <td>0.3333</td>\n",
       "      <td>0.0132</td>\n",
       "      <td>0.0787</td>\n",
       "      <td>0.0558</td>\n",
       "      <td>0.0039</td>\n",
       "      <td>0.01</td>\n",
       "      <td>reg oper account</td>\n",
       "      <td>block of flats</td>\n",
       "      <td>0.0714</td>\n",
       "      <td>Block</td>\n",
       "      <td>No</td>\n",
       "      <td>1.0</td>\n",
       "      <td>0.0</td>\n",
       "      <td>1.0</td>\n",
       "      <td>0.0</td>\n",
       "      <td>-828.0</td>\n",
       "      <td>0</td>\n",
       "      <td>1</td>\n",
       "      <td>0</td>\n",
       "      <td>0</td>\n",
       "      <td>0</td>\n",
       "      <td>0</td>\n",
       "      <td>0</td>\n",
       "      <td>0</td>\n",
       "      <td>0</td>\n",
       "      <td>0</td>\n",
       "      <td>0</td>\n",
       "      <td>0</td>\n",
       "      <td>0</td>\n",
       "      <td>0</td>\n",
       "      <td>0</td>\n",
       "      <td>0</td>\n",
       "      <td>0</td>\n",
       "      <td>0</td>\n",
       "      <td>0</td>\n",
       "      <td>0</td>\n",
       "      <td>0.0</td>\n",
       "      <td>0.0</td>\n",
       "      <td>0.0</td>\n",
       "      <td>0.0</td>\n",
       "      <td>0.0</td>\n",
       "      <td>0.0</td>\n",
       "    </tr>\n",
       "    <tr>\n",
       "      <th>2</th>\n",
       "      <td>100004</td>\n",
       "      <td>0</td>\n",
       "      <td>Revolving loans</td>\n",
       "      <td>M</td>\n",
       "      <td>Y</td>\n",
       "      <td>Y</td>\n",
       "      <td>0</td>\n",
       "      <td>67500.0</td>\n",
       "      <td>135000.0</td>\n",
       "      <td>6750.0</td>\n",
       "      <td>135000.0</td>\n",
       "      <td>Unaccompanied</td>\n",
       "      <td>Working</td>\n",
       "      <td>Secondary / secondary special</td>\n",
       "      <td>Single / not married</td>\n",
       "      <td>House / apartment</td>\n",
       "      <td>0.010032</td>\n",
       "      <td>-19046</td>\n",
       "      <td>-225</td>\n",
       "      <td>-4260.0</td>\n",
       "      <td>-2531</td>\n",
       "      <td>26.0</td>\n",
       "      <td>1</td>\n",
       "      <td>1</td>\n",
       "      <td>1</td>\n",
       "      <td>1</td>\n",
       "      <td>1</td>\n",
       "      <td>0</td>\n",
       "      <td>Laborers</td>\n",
       "      <td>1.0</td>\n",
       "      <td>2</td>\n",
       "      <td>2</td>\n",
       "      <td>MONDAY</td>\n",
       "      <td>9</td>\n",
       "      <td>0</td>\n",
       "      <td>0</td>\n",
       "      <td>0</td>\n",
       "      <td>0</td>\n",
       "      <td>0</td>\n",
       "      <td>0</td>\n",
       "      <td>Government</td>\n",
       "      <td>NaN</td>\n",
       "      <td>0.555912</td>\n",
       "      <td>0.729567</td>\n",
       "      <td>NaN</td>\n",
       "      <td>NaN</td>\n",
       "      <td>NaN</td>\n",
       "      <td>NaN</td>\n",
       "      <td>NaN</td>\n",
       "      <td>NaN</td>\n",
       "      <td>NaN</td>\n",
       "      <td>NaN</td>\n",
       "      <td>NaN</td>\n",
       "      <td>NaN</td>\n",
       "      <td>NaN</td>\n",
       "      <td>NaN</td>\n",
       "      <td>NaN</td>\n",
       "      <td>NaN</td>\n",
       "      <td>NaN</td>\n",
       "      <td>NaN</td>\n",
       "      <td>NaN</td>\n",
       "      <td>NaN</td>\n",
       "      <td>NaN</td>\n",
       "      <td>NaN</td>\n",
       "      <td>NaN</td>\n",
       "      <td>NaN</td>\n",
       "      <td>NaN</td>\n",
       "      <td>NaN</td>\n",
       "      <td>NaN</td>\n",
       "      <td>NaN</td>\n",
       "      <td>NaN</td>\n",
       "      <td>NaN</td>\n",
       "      <td>NaN</td>\n",
       "      <td>NaN</td>\n",
       "      <td>NaN</td>\n",
       "      <td>NaN</td>\n",
       "      <td>NaN</td>\n",
       "      <td>NaN</td>\n",
       "      <td>NaN</td>\n",
       "      <td>NaN</td>\n",
       "      <td>NaN</td>\n",
       "      <td>NaN</td>\n",
       "      <td>NaN</td>\n",
       "      <td>NaN</td>\n",
       "      <td>NaN</td>\n",
       "      <td>NaN</td>\n",
       "      <td>NaN</td>\n",
       "      <td>NaN</td>\n",
       "      <td>NaN</td>\n",
       "      <td>NaN</td>\n",
       "      <td>NaN</td>\n",
       "      <td>0.0</td>\n",
       "      <td>0.0</td>\n",
       "      <td>0.0</td>\n",
       "      <td>0.0</td>\n",
       "      <td>-815.0</td>\n",
       "      <td>0</td>\n",
       "      <td>0</td>\n",
       "      <td>0</td>\n",
       "      <td>0</td>\n",
       "      <td>0</td>\n",
       "      <td>0</td>\n",
       "      <td>0</td>\n",
       "      <td>0</td>\n",
       "      <td>0</td>\n",
       "      <td>0</td>\n",
       "      <td>0</td>\n",
       "      <td>0</td>\n",
       "      <td>0</td>\n",
       "      <td>0</td>\n",
       "      <td>0</td>\n",
       "      <td>0</td>\n",
       "      <td>0</td>\n",
       "      <td>0</td>\n",
       "      <td>0</td>\n",
       "      <td>0</td>\n",
       "      <td>0.0</td>\n",
       "      <td>0.0</td>\n",
       "      <td>0.0</td>\n",
       "      <td>0.0</td>\n",
       "      <td>0.0</td>\n",
       "      <td>0.0</td>\n",
       "    </tr>\n",
       "    <tr>\n",
       "      <th>3</th>\n",
       "      <td>100006</td>\n",
       "      <td>0</td>\n",
       "      <td>Cash loans</td>\n",
       "      <td>F</td>\n",
       "      <td>N</td>\n",
       "      <td>Y</td>\n",
       "      <td>0</td>\n",
       "      <td>135000.0</td>\n",
       "      <td>312682.5</td>\n",
       "      <td>29686.5</td>\n",
       "      <td>297000.0</td>\n",
       "      <td>Unaccompanied</td>\n",
       "      <td>Working</td>\n",
       "      <td>Secondary / secondary special</td>\n",
       "      <td>Civil marriage</td>\n",
       "      <td>House / apartment</td>\n",
       "      <td>0.008019</td>\n",
       "      <td>-19005</td>\n",
       "      <td>-3039</td>\n",
       "      <td>-9833.0</td>\n",
       "      <td>-2437</td>\n",
       "      <td>NaN</td>\n",
       "      <td>1</td>\n",
       "      <td>1</td>\n",
       "      <td>0</td>\n",
       "      <td>1</td>\n",
       "      <td>0</td>\n",
       "      <td>0</td>\n",
       "      <td>Laborers</td>\n",
       "      <td>2.0</td>\n",
       "      <td>2</td>\n",
       "      <td>2</td>\n",
       "      <td>WEDNESDAY</td>\n",
       "      <td>17</td>\n",
       "      <td>0</td>\n",
       "      <td>0</td>\n",
       "      <td>0</td>\n",
       "      <td>0</td>\n",
       "      <td>0</td>\n",
       "      <td>0</td>\n",
       "      <td>Business Entity Type 3</td>\n",
       "      <td>NaN</td>\n",
       "      <td>0.650442</td>\n",
       "      <td>NaN</td>\n",
       "      <td>NaN</td>\n",
       "      <td>NaN</td>\n",
       "      <td>NaN</td>\n",
       "      <td>NaN</td>\n",
       "      <td>NaN</td>\n",
       "      <td>NaN</td>\n",
       "      <td>NaN</td>\n",
       "      <td>NaN</td>\n",
       "      <td>NaN</td>\n",
       "      <td>NaN</td>\n",
       "      <td>NaN</td>\n",
       "      <td>NaN</td>\n",
       "      <td>NaN</td>\n",
       "      <td>NaN</td>\n",
       "      <td>NaN</td>\n",
       "      <td>NaN</td>\n",
       "      <td>NaN</td>\n",
       "      <td>NaN</td>\n",
       "      <td>NaN</td>\n",
       "      <td>NaN</td>\n",
       "      <td>NaN</td>\n",
       "      <td>NaN</td>\n",
       "      <td>NaN</td>\n",
       "      <td>NaN</td>\n",
       "      <td>NaN</td>\n",
       "      <td>NaN</td>\n",
       "      <td>NaN</td>\n",
       "      <td>NaN</td>\n",
       "      <td>NaN</td>\n",
       "      <td>NaN</td>\n",
       "      <td>NaN</td>\n",
       "      <td>NaN</td>\n",
       "      <td>NaN</td>\n",
       "      <td>NaN</td>\n",
       "      <td>NaN</td>\n",
       "      <td>NaN</td>\n",
       "      <td>NaN</td>\n",
       "      <td>NaN</td>\n",
       "      <td>NaN</td>\n",
       "      <td>NaN</td>\n",
       "      <td>NaN</td>\n",
       "      <td>NaN</td>\n",
       "      <td>NaN</td>\n",
       "      <td>NaN</td>\n",
       "      <td>NaN</td>\n",
       "      <td>NaN</td>\n",
       "      <td>NaN</td>\n",
       "      <td>2.0</td>\n",
       "      <td>0.0</td>\n",
       "      <td>2.0</td>\n",
       "      <td>0.0</td>\n",
       "      <td>-617.0</td>\n",
       "      <td>0</td>\n",
       "      <td>1</td>\n",
       "      <td>0</td>\n",
       "      <td>0</td>\n",
       "      <td>0</td>\n",
       "      <td>0</td>\n",
       "      <td>0</td>\n",
       "      <td>0</td>\n",
       "      <td>0</td>\n",
       "      <td>0</td>\n",
       "      <td>0</td>\n",
       "      <td>0</td>\n",
       "      <td>0</td>\n",
       "      <td>0</td>\n",
       "      <td>0</td>\n",
       "      <td>0</td>\n",
       "      <td>0</td>\n",
       "      <td>0</td>\n",
       "      <td>0</td>\n",
       "      <td>0</td>\n",
       "      <td>NaN</td>\n",
       "      <td>NaN</td>\n",
       "      <td>NaN</td>\n",
       "      <td>NaN</td>\n",
       "      <td>NaN</td>\n",
       "      <td>NaN</td>\n",
       "    </tr>\n",
       "    <tr>\n",
       "      <th>4</th>\n",
       "      <td>100007</td>\n",
       "      <td>0</td>\n",
       "      <td>Cash loans</td>\n",
       "      <td>M</td>\n",
       "      <td>N</td>\n",
       "      <td>Y</td>\n",
       "      <td>0</td>\n",
       "      <td>121500.0</td>\n",
       "      <td>513000.0</td>\n",
       "      <td>21865.5</td>\n",
       "      <td>513000.0</td>\n",
       "      <td>Unaccompanied</td>\n",
       "      <td>Working</td>\n",
       "      <td>Secondary / secondary special</td>\n",
       "      <td>Single / not married</td>\n",
       "      <td>House / apartment</td>\n",
       "      <td>0.028663</td>\n",
       "      <td>-19932</td>\n",
       "      <td>-3038</td>\n",
       "      <td>-4311.0</td>\n",
       "      <td>-3458</td>\n",
       "      <td>NaN</td>\n",
       "      <td>1</td>\n",
       "      <td>1</td>\n",
       "      <td>0</td>\n",
       "      <td>1</td>\n",
       "      <td>0</td>\n",
       "      <td>0</td>\n",
       "      <td>Core staff</td>\n",
       "      <td>1.0</td>\n",
       "      <td>2</td>\n",
       "      <td>2</td>\n",
       "      <td>THURSDAY</td>\n",
       "      <td>11</td>\n",
       "      <td>0</td>\n",
       "      <td>0</td>\n",
       "      <td>0</td>\n",
       "      <td>0</td>\n",
       "      <td>1</td>\n",
       "      <td>1</td>\n",
       "      <td>Religion</td>\n",
       "      <td>NaN</td>\n",
       "      <td>0.322738</td>\n",
       "      <td>NaN</td>\n",
       "      <td>NaN</td>\n",
       "      <td>NaN</td>\n",
       "      <td>NaN</td>\n",
       "      <td>NaN</td>\n",
       "      <td>NaN</td>\n",
       "      <td>NaN</td>\n",
       "      <td>NaN</td>\n",
       "      <td>NaN</td>\n",
       "      <td>NaN</td>\n",
       "      <td>NaN</td>\n",
       "      <td>NaN</td>\n",
       "      <td>NaN</td>\n",
       "      <td>NaN</td>\n",
       "      <td>NaN</td>\n",
       "      <td>NaN</td>\n",
       "      <td>NaN</td>\n",
       "      <td>NaN</td>\n",
       "      <td>NaN</td>\n",
       "      <td>NaN</td>\n",
       "      <td>NaN</td>\n",
       "      <td>NaN</td>\n",
       "      <td>NaN</td>\n",
       "      <td>NaN</td>\n",
       "      <td>NaN</td>\n",
       "      <td>NaN</td>\n",
       "      <td>NaN</td>\n",
       "      <td>NaN</td>\n",
       "      <td>NaN</td>\n",
       "      <td>NaN</td>\n",
       "      <td>NaN</td>\n",
       "      <td>NaN</td>\n",
       "      <td>NaN</td>\n",
       "      <td>NaN</td>\n",
       "      <td>NaN</td>\n",
       "      <td>NaN</td>\n",
       "      <td>NaN</td>\n",
       "      <td>NaN</td>\n",
       "      <td>NaN</td>\n",
       "      <td>NaN</td>\n",
       "      <td>NaN</td>\n",
       "      <td>NaN</td>\n",
       "      <td>NaN</td>\n",
       "      <td>NaN</td>\n",
       "      <td>NaN</td>\n",
       "      <td>NaN</td>\n",
       "      <td>NaN</td>\n",
       "      <td>NaN</td>\n",
       "      <td>0.0</td>\n",
       "      <td>0.0</td>\n",
       "      <td>0.0</td>\n",
       "      <td>0.0</td>\n",
       "      <td>-1106.0</td>\n",
       "      <td>0</td>\n",
       "      <td>0</td>\n",
       "      <td>0</td>\n",
       "      <td>0</td>\n",
       "      <td>0</td>\n",
       "      <td>0</td>\n",
       "      <td>1</td>\n",
       "      <td>0</td>\n",
       "      <td>0</td>\n",
       "      <td>0</td>\n",
       "      <td>0</td>\n",
       "      <td>0</td>\n",
       "      <td>0</td>\n",
       "      <td>0</td>\n",
       "      <td>0</td>\n",
       "      <td>0</td>\n",
       "      <td>0</td>\n",
       "      <td>0</td>\n",
       "      <td>0</td>\n",
       "      <td>0</td>\n",
       "      <td>0.0</td>\n",
       "      <td>0.0</td>\n",
       "      <td>0.0</td>\n",
       "      <td>0.0</td>\n",
       "      <td>0.0</td>\n",
       "      <td>0.0</td>\n",
       "    </tr>\n",
       "  </tbody>\n",
       "</table>\n",
       "</div>"
      ],
      "text/plain": [
       "   SK_ID_CURR  TARGET NAME_CONTRACT_TYPE CODE_GENDER FLAG_OWN_CAR  \\\n",
       "0      100002       1         Cash loans           M            N   \n",
       "1      100003       0         Cash loans           F            N   \n",
       "2      100004       0    Revolving loans           M            Y   \n",
       "3      100006       0         Cash loans           F            N   \n",
       "4      100007       0         Cash loans           M            N   \n",
       "\n",
       "  FLAG_OWN_REALTY  CNT_CHILDREN  AMT_INCOME_TOTAL  AMT_CREDIT  AMT_ANNUITY  \\\n",
       "0               Y             0          202500.0    406597.5      24700.5   \n",
       "1               N             0          270000.0   1293502.5      35698.5   \n",
       "2               Y             0           67500.0    135000.0       6750.0   \n",
       "3               Y             0          135000.0    312682.5      29686.5   \n",
       "4               Y             0          121500.0    513000.0      21865.5   \n",
       "\n",
       "   AMT_GOODS_PRICE NAME_TYPE_SUITE NAME_INCOME_TYPE  \\\n",
       "0         351000.0   Unaccompanied          Working   \n",
       "1        1129500.0          Family    State servant   \n",
       "2         135000.0   Unaccompanied          Working   \n",
       "3         297000.0   Unaccompanied          Working   \n",
       "4         513000.0   Unaccompanied          Working   \n",
       "\n",
       "             NAME_EDUCATION_TYPE    NAME_FAMILY_STATUS  NAME_HOUSING_TYPE  \\\n",
       "0  Secondary / secondary special  Single / not married  House / apartment   \n",
       "1               Higher education               Married  House / apartment   \n",
       "2  Secondary / secondary special  Single / not married  House / apartment   \n",
       "3  Secondary / secondary special        Civil marriage  House / apartment   \n",
       "4  Secondary / secondary special  Single / not married  House / apartment   \n",
       "\n",
       "   REGION_POPULATION_RELATIVE  DAYS_BIRTH  DAYS_EMPLOYED  DAYS_REGISTRATION  \\\n",
       "0                    0.018801       -9461           -637            -3648.0   \n",
       "1                    0.003541      -16765          -1188            -1186.0   \n",
       "2                    0.010032      -19046           -225            -4260.0   \n",
       "3                    0.008019      -19005          -3039            -9833.0   \n",
       "4                    0.028663      -19932          -3038            -4311.0   \n",
       "\n",
       "   DAYS_ID_PUBLISH  OWN_CAR_AGE  FLAG_MOBIL  FLAG_EMP_PHONE  FLAG_WORK_PHONE  \\\n",
       "0            -2120          NaN           1               1                0   \n",
       "1             -291          NaN           1               1                0   \n",
       "2            -2531         26.0           1               1                1   \n",
       "3            -2437          NaN           1               1                0   \n",
       "4            -3458          NaN           1               1                0   \n",
       "\n",
       "   FLAG_CONT_MOBILE  FLAG_PHONE  FLAG_EMAIL OCCUPATION_TYPE  CNT_FAM_MEMBERS  \\\n",
       "0                 1           1           0        Laborers              1.0   \n",
       "1                 1           1           0      Core staff              2.0   \n",
       "2                 1           1           0        Laborers              1.0   \n",
       "3                 1           0           0        Laborers              2.0   \n",
       "4                 1           0           0      Core staff              1.0   \n",
       "\n",
       "   REGION_RATING_CLIENT  REGION_RATING_CLIENT_W_CITY  \\\n",
       "0                     2                            2   \n",
       "1                     1                            1   \n",
       "2                     2                            2   \n",
       "3                     2                            2   \n",
       "4                     2                            2   \n",
       "\n",
       "  WEEKDAY_APPR_PROCESS_START  HOUR_APPR_PROCESS_START  \\\n",
       "0                  WEDNESDAY                       10   \n",
       "1                     MONDAY                       11   \n",
       "2                     MONDAY                        9   \n",
       "3                  WEDNESDAY                       17   \n",
       "4                   THURSDAY                       11   \n",
       "\n",
       "   REG_REGION_NOT_LIVE_REGION  REG_REGION_NOT_WORK_REGION  \\\n",
       "0                           0                           0   \n",
       "1                           0                           0   \n",
       "2                           0                           0   \n",
       "3                           0                           0   \n",
       "4                           0                           0   \n",
       "\n",
       "   LIVE_REGION_NOT_WORK_REGION  REG_CITY_NOT_LIVE_CITY  \\\n",
       "0                            0                       0   \n",
       "1                            0                       0   \n",
       "2                            0                       0   \n",
       "3                            0                       0   \n",
       "4                            0                       0   \n",
       "\n",
       "   REG_CITY_NOT_WORK_CITY  LIVE_CITY_NOT_WORK_CITY       ORGANIZATION_TYPE  \\\n",
       "0                       0                        0  Business Entity Type 3   \n",
       "1                       0                        0                  School   \n",
       "2                       0                        0              Government   \n",
       "3                       0                        0  Business Entity Type 3   \n",
       "4                       1                        1                Religion   \n",
       "\n",
       "   EXT_SOURCE_1  EXT_SOURCE_2  EXT_SOURCE_3  APARTMENTS_AVG  BASEMENTAREA_AVG  \\\n",
       "0      0.083037      0.262949      0.139376          0.0247            0.0369   \n",
       "1      0.311267      0.622246           NaN          0.0959            0.0529   \n",
       "2           NaN      0.555912      0.729567             NaN               NaN   \n",
       "3           NaN      0.650442           NaN             NaN               NaN   \n",
       "4           NaN      0.322738           NaN             NaN               NaN   \n",
       "\n",
       "   YEARS_BEGINEXPLUATATION_AVG  YEARS_BUILD_AVG  COMMONAREA_AVG  \\\n",
       "0                       0.9722           0.6192          0.0143   \n",
       "1                       0.9851           0.7960          0.0605   \n",
       "2                          NaN              NaN             NaN   \n",
       "3                          NaN              NaN             NaN   \n",
       "4                          NaN              NaN             NaN   \n",
       "\n",
       "   ELEVATORS_AVG  ENTRANCES_AVG  FLOORSMAX_AVG  FLOORSMIN_AVG  LANDAREA_AVG  \\\n",
       "0           0.00         0.0690         0.0833         0.1250        0.0369   \n",
       "1           0.08         0.0345         0.2917         0.3333        0.0130   \n",
       "2            NaN            NaN            NaN            NaN           NaN   \n",
       "3            NaN            NaN            NaN            NaN           NaN   \n",
       "4            NaN            NaN            NaN            NaN           NaN   \n",
       "\n",
       "   LIVINGAPARTMENTS_AVG  LIVINGAREA_AVG  NONLIVINGAPARTMENTS_AVG  \\\n",
       "0                0.0202          0.0190                   0.0000   \n",
       "1                0.0773          0.0549                   0.0039   \n",
       "2                   NaN             NaN                      NaN   \n",
       "3                   NaN             NaN                      NaN   \n",
       "4                   NaN             NaN                      NaN   \n",
       "\n",
       "   NONLIVINGAREA_AVG  APARTMENTS_MODE  BASEMENTAREA_MODE  \\\n",
       "0             0.0000           0.0252             0.0383   \n",
       "1             0.0098           0.0924             0.0538   \n",
       "2                NaN              NaN                NaN   \n",
       "3                NaN              NaN                NaN   \n",
       "4                NaN              NaN                NaN   \n",
       "\n",
       "   YEARS_BEGINEXPLUATATION_MODE  YEARS_BUILD_MODE  COMMONAREA_MODE  \\\n",
       "0                        0.9722            0.6341           0.0144   \n",
       "1                        0.9851            0.8040           0.0497   \n",
       "2                           NaN               NaN              NaN   \n",
       "3                           NaN               NaN              NaN   \n",
       "4                           NaN               NaN              NaN   \n",
       "\n",
       "   ELEVATORS_MODE  ENTRANCES_MODE  FLOORSMAX_MODE  FLOORSMIN_MODE  \\\n",
       "0          0.0000          0.0690          0.0833          0.1250   \n",
       "1          0.0806          0.0345          0.2917          0.3333   \n",
       "2             NaN             NaN             NaN             NaN   \n",
       "3             NaN             NaN             NaN             NaN   \n",
       "4             NaN             NaN             NaN             NaN   \n",
       "\n",
       "   LANDAREA_MODE  LIVINGAPARTMENTS_MODE  LIVINGAREA_MODE  \\\n",
       "0         0.0377                  0.022           0.0198   \n",
       "1         0.0128                  0.079           0.0554   \n",
       "2            NaN                    NaN              NaN   \n",
       "3            NaN                    NaN              NaN   \n",
       "4            NaN                    NaN              NaN   \n",
       "\n",
       "   NONLIVINGAPARTMENTS_MODE  NONLIVINGAREA_MODE  APARTMENTS_MEDI  \\\n",
       "0                       0.0                 0.0           0.0250   \n",
       "1                       0.0                 0.0           0.0968   \n",
       "2                       NaN                 NaN              NaN   \n",
       "3                       NaN                 NaN              NaN   \n",
       "4                       NaN                 NaN              NaN   \n",
       "\n",
       "   BASEMENTAREA_MEDI  YEARS_BEGINEXPLUATATION_MEDI  YEARS_BUILD_MEDI  \\\n",
       "0             0.0369                        0.9722            0.6243   \n",
       "1             0.0529                        0.9851            0.7987   \n",
       "2                NaN                           NaN               NaN   \n",
       "3                NaN                           NaN               NaN   \n",
       "4                NaN                           NaN               NaN   \n",
       "\n",
       "   COMMONAREA_MEDI  ELEVATORS_MEDI  ENTRANCES_MEDI  FLOORSMAX_MEDI  \\\n",
       "0           0.0144            0.00          0.0690          0.0833   \n",
       "1           0.0608            0.08          0.0345          0.2917   \n",
       "2              NaN             NaN             NaN             NaN   \n",
       "3              NaN             NaN             NaN             NaN   \n",
       "4              NaN             NaN             NaN             NaN   \n",
       "\n",
       "   FLOORSMIN_MEDI  LANDAREA_MEDI  LIVINGAPARTMENTS_MEDI  LIVINGAREA_MEDI  \\\n",
       "0          0.1250         0.0375                 0.0205           0.0193   \n",
       "1          0.3333         0.0132                 0.0787           0.0558   \n",
       "2             NaN            NaN                    NaN              NaN   \n",
       "3             NaN            NaN                    NaN              NaN   \n",
       "4             NaN            NaN                    NaN              NaN   \n",
       "\n",
       "   NONLIVINGAPARTMENTS_MEDI  NONLIVINGAREA_MEDI FONDKAPREMONT_MODE  \\\n",
       "0                    0.0000                0.00   reg oper account   \n",
       "1                    0.0039                0.01   reg oper account   \n",
       "2                       NaN                 NaN                NaN   \n",
       "3                       NaN                 NaN                NaN   \n",
       "4                       NaN                 NaN                NaN   \n",
       "\n",
       "   HOUSETYPE_MODE  TOTALAREA_MODE WALLSMATERIAL_MODE EMERGENCYSTATE_MODE  \\\n",
       "0  block of flats          0.0149       Stone, brick                  No   \n",
       "1  block of flats          0.0714              Block                  No   \n",
       "2             NaN             NaN                NaN                 NaN   \n",
       "3             NaN             NaN                NaN                 NaN   \n",
       "4             NaN             NaN                NaN                 NaN   \n",
       "\n",
       "   OBS_30_CNT_SOCIAL_CIRCLE  DEF_30_CNT_SOCIAL_CIRCLE  \\\n",
       "0                       2.0                       2.0   \n",
       "1                       1.0                       0.0   \n",
       "2                       0.0                       0.0   \n",
       "3                       2.0                       0.0   \n",
       "4                       0.0                       0.0   \n",
       "\n",
       "   OBS_60_CNT_SOCIAL_CIRCLE  DEF_60_CNT_SOCIAL_CIRCLE  DAYS_LAST_PHONE_CHANGE  \\\n",
       "0                       2.0                       2.0                 -1134.0   \n",
       "1                       1.0                       0.0                  -828.0   \n",
       "2                       0.0                       0.0                  -815.0   \n",
       "3                       2.0                       0.0                  -617.0   \n",
       "4                       0.0                       0.0                 -1106.0   \n",
       "\n",
       "   FLAG_DOCUMENT_2  FLAG_DOCUMENT_3  FLAG_DOCUMENT_4  FLAG_DOCUMENT_5  \\\n",
       "0                0                1                0                0   \n",
       "1                0                1                0                0   \n",
       "2                0                0                0                0   \n",
       "3                0                1                0                0   \n",
       "4                0                0                0                0   \n",
       "\n",
       "   FLAG_DOCUMENT_6  FLAG_DOCUMENT_7  FLAG_DOCUMENT_8  FLAG_DOCUMENT_9  \\\n",
       "0                0                0                0                0   \n",
       "1                0                0                0                0   \n",
       "2                0                0                0                0   \n",
       "3                0                0                0                0   \n",
       "4                0                0                1                0   \n",
       "\n",
       "   FLAG_DOCUMENT_10  FLAG_DOCUMENT_11  FLAG_DOCUMENT_12  FLAG_DOCUMENT_13  \\\n",
       "0                 0                 0                 0                 0   \n",
       "1                 0                 0                 0                 0   \n",
       "2                 0                 0                 0                 0   \n",
       "3                 0                 0                 0                 0   \n",
       "4                 0                 0                 0                 0   \n",
       "\n",
       "   FLAG_DOCUMENT_14  FLAG_DOCUMENT_15  FLAG_DOCUMENT_16  FLAG_DOCUMENT_17  \\\n",
       "0                 0                 0                 0                 0   \n",
       "1                 0                 0                 0                 0   \n",
       "2                 0                 0                 0                 0   \n",
       "3                 0                 0                 0                 0   \n",
       "4                 0                 0                 0                 0   \n",
       "\n",
       "   FLAG_DOCUMENT_18  FLAG_DOCUMENT_19  FLAG_DOCUMENT_20  FLAG_DOCUMENT_21  \\\n",
       "0                 0                 0                 0                 0   \n",
       "1                 0                 0                 0                 0   \n",
       "2                 0                 0                 0                 0   \n",
       "3                 0                 0                 0                 0   \n",
       "4                 0                 0                 0                 0   \n",
       "\n",
       "   AMT_REQ_CREDIT_BUREAU_HOUR  AMT_REQ_CREDIT_BUREAU_DAY  \\\n",
       "0                         0.0                        0.0   \n",
       "1                         0.0                        0.0   \n",
       "2                         0.0                        0.0   \n",
       "3                         NaN                        NaN   \n",
       "4                         0.0                        0.0   \n",
       "\n",
       "   AMT_REQ_CREDIT_BUREAU_WEEK  AMT_REQ_CREDIT_BUREAU_MON  \\\n",
       "0                         0.0                        0.0   \n",
       "1                         0.0                        0.0   \n",
       "2                         0.0                        0.0   \n",
       "3                         NaN                        NaN   \n",
       "4                         0.0                        0.0   \n",
       "\n",
       "   AMT_REQ_CREDIT_BUREAU_QRT  AMT_REQ_CREDIT_BUREAU_YEAR  \n",
       "0                        0.0                         1.0  \n",
       "1                        0.0                         0.0  \n",
       "2                        0.0                         0.0  \n",
       "3                        NaN                         NaN  \n",
       "4                        0.0                         0.0  "
      ]
     },
     "execution_count": 18,
     "metadata": {},
     "output_type": "execute_result"
    }
   ],
   "source": [
    "# Main table\n",
    "pd.options.display.max_columns = None\n",
    "train.head(5)"
   ]
  },
  {
   "cell_type": "code",
   "execution_count": 19,
   "metadata": {
    "colab": {
     "base_uri": "https://localhost:8080/"
    },
    "execution": {
     "iopub.execute_input": "2021-12-08T02:51:28.859392Z",
     "iopub.status.busy": "2021-12-08T02:51:28.858410Z",
     "iopub.status.idle": "2021-12-08T02:51:30.958021Z",
     "shell.execute_reply": "2021-12-08T02:51:30.956718Z",
     "shell.execute_reply.started": "2021-12-08T02:51:28.859311Z"
    },
    "id": "zuAXr_yAmKTk",
    "outputId": "a8786ee1-ef1a-43f3-821a-b03e8a63a603"
   },
   "outputs": [
    {
     "name": "stdout",
     "output_type": "stream",
     "text": [
      "Shape of X_train: (230633, 120)\n",
      "Shape of y_train: (230633,)\n",
      "Shape of X_valid: (76878, 120)\n",
      "Shape of y_valid: (76878,)\n"
     ]
    }
   ],
   "source": [
    "y = train['TARGET'].values\n",
    "X_train, X_valid, y_train, y_valid = train_test_split(train.drop(['TARGET', 'SK_ID_CURR'], axis = 1), y, stratify = y, test_size=1 - train_size, random_state=1)\n",
    "print('Shape of X_train:',X_train.shape)\n",
    "print('Shape of y_train:',y_train.shape)\n",
    "print('Shape of X_valid:',X_valid.shape)\n",
    "print('Shape of y_valid:',y_valid.shape)"
   ]
  },
  {
   "cell_type": "markdown",
   "metadata": {
    "id": "js-eqbUBmKTk"
   },
   "source": [
    "### make lists of cat and num features for pipeline, based on dtype"
   ]
  },
  {
   "cell_type": "code",
   "execution_count": 20,
   "metadata": {
    "colab": {
     "base_uri": "https://localhost:8080/"
    },
    "execution": {
     "iopub.execute_input": "2021-12-08T02:51:30.960942Z",
     "iopub.status.busy": "2021-12-08T02:51:30.960590Z",
     "iopub.status.idle": "2021-12-08T02:51:30.972154Z",
     "shell.execute_reply": "2021-12-08T02:51:30.970892Z",
     "shell.execute_reply.started": "2021-12-08T02:51:30.960896Z"
    },
    "id": "PBixbdVgmKTk",
    "outputId": "26ddcc11-2986-4d74-de63-3031ce4c7c08"
   },
   "outputs": [
    {
     "name": "stdout",
     "output_type": "stream",
     "text": [
      "104 numeric features\n",
      "16 categorical features\n"
     ]
    }
   ],
   "source": [
    "types = np.array([z for z in X_train.dtypes])        # array([dtype('float64'), dtype('float64'), dtype('O'), dtype('O') ...])\n",
    "all_columns = X_train.columns.values                 # list of all column names\n",
    "is_num = types != 'object'                           # returns array([False, False, False, False,  True,  True, ...) where True is a numeric variable\n",
    "num_features = all_columns[is_num].tolist()          # list of all numeric columns\n",
    "cat_features = all_columns[~is_num].tolist()         # list of all categorical columns\n",
    "\n",
    "print(len(num_features), \"numeric features\")\n",
    "print(len(cat_features), \"categorical features\")"
   ]
  },
  {
   "cell_type": "markdown",
   "metadata": {
    "id": "E7nBH28_mKTk"
   },
   "source": [
    "### build model pipeline based on num_cols and cat_cols lists"
   ]
  },
  {
   "cell_type": "code",
   "execution_count": 21,
   "metadata": {
    "colab": {
     "base_uri": "https://localhost:8080/"
    },
    "execution": {
     "iopub.execute_input": "2021-12-08T02:51:30.975527Z",
     "iopub.status.busy": "2021-12-08T02:51:30.974991Z",
     "iopub.status.idle": "2021-12-08T02:53:27.192383Z",
     "shell.execute_reply": "2021-12-08T02:53:27.191013Z",
     "shell.execute_reply.started": "2021-12-08T02:51:30.975488Z"
    },
    "id": "-UuZhC5XmKTl",
    "outputId": "a1224bd8-4a71-4c5a-8b40-3edbc5bf4fbf"
   },
   "outputs": [
    {
     "name": "stdout",
     "output_type": "stream",
     "text": [
      "Shape of X_train: (230633, 250)\n",
      "Shape of y_train: (230633,)\n"
     ]
    },
    {
     "data": {
      "text/plain": [
       "72"
      ]
     },
     "execution_count": 21,
     "metadata": {},
     "output_type": "execute_result"
    }
   ],
   "source": [
    "features = num_features + cat_features\n",
    "\n",
    "Pipe_num = Pipeline(\n",
    "    steps=[\n",
    "    ('imputer', SimpleImputer(strategy = 'median')),        # tried median, mean, constant strategies\n",
    "    ('scaler', StandardScaler())       ])\n",
    "\n",
    "Pipe_cat = Pipeline(\n",
    "    steps=[\n",
    "    ('imputer', SimpleImputer(strategy = 'constant', fill_value = 'Unknown')),\n",
    "    ('onehot', OneHotEncoder())        ])\n",
    "\n",
    "preprocessor = ColumnTransformer(\n",
    "    transformers = [\n",
    "        ('num', Pipe_num, num_features),\n",
    "        ('cat', Pipe_cat, cat_features)])\n",
    "\n",
    "preprocessor.fit(train[features])\n",
    "X_train = preprocessor.transform(X_train[features])\n",
    "X_valid = preprocessor.transform(X_valid[features])\n",
    "\n",
    "print('Shape of X_train:',X_train.shape)\n",
    "print('Shape of y_train:',y_train.shape)\n",
    "\n",
    "gc.collect()"
   ]
  },
  {
   "cell_type": "code",
   "execution_count": 22,
   "metadata": {
    "execution": {
     "iopub.execute_input": "2021-12-08T02:53:27.194263Z",
     "iopub.status.busy": "2021-12-08T02:53:27.193993Z",
     "iopub.status.idle": "2021-12-08T02:53:27.203104Z",
     "shell.execute_reply": "2021-12-08T02:53:27.202106Z",
     "shell.execute_reply.started": "2021-12-08T02:53:27.194231Z"
    },
    "id": "B8gywRWjmKTl"
   },
   "outputs": [],
   "source": [
    "pd.set_option('display.max_colwidth', None)          \n",
    "results = pd.DataFrame(columns = ['Model Type','AUC - 10xv', 'AUC - Valid', 'Hyperparameters'])"
   ]
  },
  {
   "cell_type": "code",
   "execution_count": 23,
   "metadata": {
    "id": "hYXGuqfNsTuK"
   },
   "outputs": [],
   "source": [
    "import lightgbm as lgb"
   ]
  },
  {
   "cell_type": "markdown",
   "metadata": {
    "id": "dXc7VKC_mKTl"
   },
   "source": [
    "# Models"
   ]
  },
  {
   "cell_type": "code",
   "execution_count": 24,
   "metadata": {
    "colab": {
     "base_uri": "https://localhost:8080/"
    },
    "execution": {
     "iopub.execute_input": "2021-12-08T02:53:27.234964Z",
     "iopub.status.busy": "2021-12-08T02:53:27.234530Z",
     "iopub.status.idle": "2021-12-08T02:56:50.291502Z",
     "shell.execute_reply": "2021-12-08T02:56:50.290554Z",
     "shell.execute_reply.started": "2021-12-08T02:53:27.234930Z"
    },
    "id": "aDcHgduBmKTl",
    "outputId": "fd97d55f-87ea-48f9-8263-872e7149d15c"
   },
   "outputs": [
    {
     "name": "stdout",
     "output_type": "stream",
     "text": [
      "Fitting 10 folds for each of 1 candidates, totalling 10 fits\n",
      "CPU times: user 18 s, sys: 6.52 s, total: 24.5 s\n",
      "Wall time: 9min\n"
     ]
    },
    {
     "data": {
      "text/html": [
       "<div>\n",
       "<style scoped>\n",
       "    .dataframe tbody tr th:only-of-type {\n",
       "        vertical-align: middle;\n",
       "    }\n",
       "\n",
       "    .dataframe tbody tr th {\n",
       "        vertical-align: top;\n",
       "    }\n",
       "\n",
       "    .dataframe thead th {\n",
       "        text-align: right;\n",
       "    }\n",
       "</style>\n",
       "<table border=\"1\" class=\"dataframe\">\n",
       "  <thead>\n",
       "    <tr style=\"text-align: right;\">\n",
       "      <th></th>\n",
       "      <th>Model Type</th>\n",
       "      <th>AUC - 10xv</th>\n",
       "      <th>AUC - Valid</th>\n",
       "      <th>Hyperparameters</th>\n",
       "    </tr>\n",
       "  </thead>\n",
       "  <tbody>\n",
       "    <tr>\n",
       "      <th>0</th>\n",
       "      <td>Logistic Regression</td>\n",
       "      <td>0.743025</td>\n",
       "      <td>0.747978</td>\n",
       "      <td>{'C': 0.005, 'penalty': 'l2'}</td>\n",
       "    </tr>\n",
       "  </tbody>\n",
       "</table>\n",
       "</div>"
      ],
      "text/plain": [
       "            Model Type  AUC - 10xv  AUC - Valid                Hyperparameters\n",
       "0  Logistic Regression    0.743025     0.747978  {'C': 0.005, 'penalty': 'l2'}"
      ]
     },
     "execution_count": 24,
     "metadata": {},
     "output_type": "execute_result"
    }
   ],
   "source": [
    "%%time\n",
    "warnings.filterwarnings(\"ignore\", category = ConvergenceWarning)    # seems like we are okay if we set the max_iter threshold around 400.\n",
    "\n",
    "lr_clf = LogisticRegression(max_iter = 400, solver = 'lbfgs')       # lbfgs is running rings around saga\n",
    "\n",
    "lr_parameters = {\"C\" : [0.005], \"penalty\" : ['l2']}\n",
    "lr_grid = GridSearchCV(lr_clf, lr_parameters, cv=10, refit='True', n_jobs=-1, verbose=1, scoring='roc_auc')\n",
    "lr_grid.fit(X_train, y_train)\n",
    "\n",
    "lr_model = lr_grid.best_estimator_\n",
    "\n",
    "# update model scoreboard\n",
    "results = results.append({'Model Type' : 'Logistic Regression',\n",
    "                          'AUC - 10xv' : lr_grid.best_score_,\n",
    "                          'AUC - Valid' : roc_auc_score(y_valid, lr_model.predict_proba(X_valid)[:, 1]),\n",
    "                          'Hyperparameters' : lr_grid.best_params_},\n",
    "                        ignore_index=True)\n",
    "results"
   ]
  },
  {
   "cell_type": "markdown",
   "metadata": {
    "id": "j1dzpokBmKTl"
   },
   "source": [
    "### Decision Tree"
   ]
  },
  {
   "cell_type": "code",
   "execution_count": 25,
   "metadata": {
    "colab": {
     "base_uri": "https://localhost:8080/"
    },
    "execution": {
     "iopub.execute_input": "2021-12-08T02:56:50.294500Z",
     "iopub.status.busy": "2021-12-08T02:56:50.293601Z",
     "iopub.status.idle": "2021-12-08T02:59:29.856614Z",
     "shell.execute_reply": "2021-12-08T02:59:29.855626Z",
     "shell.execute_reply.started": "2021-12-08T02:56:50.294440Z"
    },
    "id": "mgGlG19MmKTl",
    "outputId": "32271996-84a5-4ef1-c49f-e97d6ef76be4"
   },
   "outputs": [
    {
     "name": "stdout",
     "output_type": "stream",
     "text": [
      "CPU times: user 6.91 s, sys: 937 ms, total: 7.85 s\n",
      "Wall time: 42.7 s\n"
     ]
    },
    {
     "data": {
      "text/html": [
       "<div>\n",
       "<style scoped>\n",
       "    .dataframe tbody tr th:only-of-type {\n",
       "        vertical-align: middle;\n",
       "    }\n",
       "\n",
       "    .dataframe tbody tr th {\n",
       "        vertical-align: top;\n",
       "    }\n",
       "\n",
       "    .dataframe thead th {\n",
       "        text-align: right;\n",
       "    }\n",
       "</style>\n",
       "<table border=\"1\" class=\"dataframe\">\n",
       "  <thead>\n",
       "    <tr style=\"text-align: right;\">\n",
       "      <th></th>\n",
       "      <th>Model Type</th>\n",
       "      <th>AUC - 10xv</th>\n",
       "      <th>AUC - Valid</th>\n",
       "      <th>Hyperparameters</th>\n",
       "    </tr>\n",
       "  </thead>\n",
       "  <tbody>\n",
       "    <tr>\n",
       "      <th>0</th>\n",
       "      <td>Logistic Regression</td>\n",
       "      <td>0.743025</td>\n",
       "      <td>0.747978</td>\n",
       "      <td>{'C': 0.005, 'penalty': 'l2'}</td>\n",
       "    </tr>\n",
       "    <tr>\n",
       "      <th>1</th>\n",
       "      <td>Decision Tree</td>\n",
       "      <td>0.711780</td>\n",
       "      <td>0.718059</td>\n",
       "      <td>{'max_depth': 8, 'min_samples_leaf': 10}</td>\n",
       "    </tr>\n",
       "  </tbody>\n",
       "</table>\n",
       "</div>"
      ],
      "text/plain": [
       "            Model Type  AUC - 10xv  AUC - Valid  \\\n",
       "0  Logistic Regression    0.743025     0.747978   \n",
       "1        Decision Tree    0.711780     0.718059   \n",
       "\n",
       "                            Hyperparameters  \n",
       "0             {'C': 0.005, 'penalty': 'l2'}  \n",
       "1  {'max_depth': 8, 'min_samples_leaf': 10}  "
      ]
     },
     "execution_count": 25,
     "metadata": {},
     "output_type": "execute_result"
    }
   ],
   "source": [
    "%%time\n",
    "dt_clf = DecisionTreeClassifier(random_state=1)\n",
    "dt_parameters = {'max_depth': [8], 'min_samples_leaf': [10]}\n",
    "\n",
    "dt_grid = GridSearchCV(dt_clf, dt_parameters, cv=10, refit='True', n_jobs=-1, verbose=0, scoring='roc_auc')\n",
    "dt_grid.fit(X_train, y_train)\n",
    "dt_model = dt_grid.best_estimator_\n",
    "\n",
    "# update model scoreboard\n",
    "results = results.append({'Model Type' : 'Decision Tree',\n",
    "                          'AUC - 10xv' : dt_grid.best_score_,\n",
    "                          'AUC - Valid' : roc_auc_score(y_valid, dt_model.predict_proba(X_valid)[:,1]),\n",
    "                          'Hyperparameters' : dt_grid.best_params_},\n",
    "                        ignore_index=True)\n",
    "gc.collect()\n",
    "results"
   ]
  },
  {
   "cell_type": "code",
   "execution_count": 26,
   "metadata": {
    "colab": {
     "base_uri": "https://localhost:8080/",
     "height": 112
    },
    "id": "x_oaH5gWtDZG",
    "outputId": "85270945-c4c5-47c3-96cc-e682ff4d7d76"
   },
   "outputs": [
    {
     "data": {
      "text/html": [
       "<div>\n",
       "<style scoped>\n",
       "    .dataframe tbody tr th:only-of-type {\n",
       "        vertical-align: middle;\n",
       "    }\n",
       "\n",
       "    .dataframe tbody tr th {\n",
       "        vertical-align: top;\n",
       "    }\n",
       "\n",
       "    .dataframe thead th {\n",
       "        text-align: right;\n",
       "    }\n",
       "</style>\n",
       "<table border=\"1\" class=\"dataframe\">\n",
       "  <thead>\n",
       "    <tr style=\"text-align: right;\">\n",
       "      <th></th>\n",
       "      <th>Model Type</th>\n",
       "      <th>AUC - 10xv</th>\n",
       "      <th>AUC - Valid</th>\n",
       "      <th>Hyperparameters</th>\n",
       "    </tr>\n",
       "  </thead>\n",
       "  <tbody>\n",
       "    <tr>\n",
       "      <th>0</th>\n",
       "      <td>Logistic Regression</td>\n",
       "      <td>0.743025</td>\n",
       "      <td>0.747978</td>\n",
       "      <td>{'C': 0.005, 'penalty': 'l2'}</td>\n",
       "    </tr>\n",
       "    <tr>\n",
       "      <th>1</th>\n",
       "      <td>Decision Tree</td>\n",
       "      <td>0.711780</td>\n",
       "      <td>0.718059</td>\n",
       "      <td>{'max_depth': 8, 'min_samples_leaf': 10}</td>\n",
       "    </tr>\n",
       "  </tbody>\n",
       "</table>\n",
       "</div>"
      ],
      "text/plain": [
       "            Model Type  AUC - 10xv  AUC - Valid  \\\n",
       "0  Logistic Regression    0.743025     0.747978   \n",
       "1        Decision Tree    0.711780     0.718059   \n",
       "\n",
       "                            Hyperparameters  \n",
       "0             {'C': 0.005, 'penalty': 'l2'}  \n",
       "1  {'max_depth': 8, 'min_samples_leaf': 10}  "
      ]
     },
     "execution_count": 26,
     "metadata": {},
     "output_type": "execute_result"
    }
   ],
   "source": [
    "results"
   ]
  },
  {
   "cell_type": "markdown",
   "metadata": {
    "id": "3Ob4nNo8mKTl"
   },
   "source": [
    "### Random Forest"
   ]
  },
  {
   "cell_type": "code",
   "execution_count": 27,
   "metadata": {
    "colab": {
     "base_uri": "https://localhost:8080/"
    },
    "execution": {
     "iopub.execute_input": "2021-12-08T02:59:29.859235Z",
     "iopub.status.busy": "2021-12-08T02:59:29.858461Z",
     "iopub.status.idle": "2021-12-08T03:15:12.914081Z",
     "shell.execute_reply": "2021-12-08T03:15:12.912525Z",
     "shell.execute_reply.started": "2021-12-08T02:59:29.859159Z"
    },
    "id": "SDSp3LdMmKTl",
    "outputId": "e5966eed-2edc-4b51-c8b5-750179b01f5f"
   },
   "outputs": [
    {
     "name": "stdout",
     "output_type": "stream",
     "text": [
      "Fitting 10 folds for each of 1 candidates, totalling 10 fits\n",
      "CPU times: user 47.2 s, sys: 760 ms, total: 48 s\n",
      "Wall time: 5min 16s\n"
     ]
    },
    {
     "data": {
      "text/html": [
       "<div>\n",
       "<style scoped>\n",
       "    .dataframe tbody tr th:only-of-type {\n",
       "        vertical-align: middle;\n",
       "    }\n",
       "\n",
       "    .dataframe tbody tr th {\n",
       "        vertical-align: top;\n",
       "    }\n",
       "\n",
       "    .dataframe thead th {\n",
       "        text-align: right;\n",
       "    }\n",
       "</style>\n",
       "<table border=\"1\" class=\"dataframe\">\n",
       "  <thead>\n",
       "    <tr style=\"text-align: right;\">\n",
       "      <th></th>\n",
       "      <th>Model Type</th>\n",
       "      <th>AUC - 10xv</th>\n",
       "      <th>AUC - Valid</th>\n",
       "      <th>Hyperparameters</th>\n",
       "    </tr>\n",
       "  </thead>\n",
       "  <tbody>\n",
       "    <tr>\n",
       "      <th>0</th>\n",
       "      <td>Logistic Regression</td>\n",
       "      <td>0.743025</td>\n",
       "      <td>0.747978</td>\n",
       "      <td>{'C': 0.005, 'penalty': 'l2'}</td>\n",
       "    </tr>\n",
       "    <tr>\n",
       "      <th>1</th>\n",
       "      <td>Decision Tree</td>\n",
       "      <td>0.711780</td>\n",
       "      <td>0.718059</td>\n",
       "      <td>{'max_depth': 8, 'min_samples_leaf': 10}</td>\n",
       "    </tr>\n",
       "    <tr>\n",
       "      <th>2</th>\n",
       "      <td>Random Forest</td>\n",
       "      <td>0.738614</td>\n",
       "      <td>0.745623</td>\n",
       "      <td>{'max_depth': 39, 'min_samples_leaf': 37}</td>\n",
       "    </tr>\n",
       "  </tbody>\n",
       "</table>\n",
       "</div>"
      ],
      "text/plain": [
       "            Model Type  AUC - 10xv  AUC - Valid  \\\n",
       "0  Logistic Regression    0.743025     0.747978   \n",
       "1        Decision Tree    0.711780     0.718059   \n",
       "2        Random Forest    0.738614     0.745623   \n",
       "\n",
       "                             Hyperparameters  \n",
       "0              {'C': 0.005, 'penalty': 'l2'}  \n",
       "1   {'max_depth': 8, 'min_samples_leaf': 10}  \n",
       "2  {'max_depth': 39, 'min_samples_leaf': 37}  "
      ]
     },
     "execution_count": 27,
     "metadata": {},
     "output_type": "execute_result"
    }
   ],
   "source": [
    "%%time\n",
    "rf_clf = RandomForestClassifier(random_state=1, n_estimators=100)\n",
    "rf_parameters = {'max_depth': [39],  'min_samples_leaf': [37]}        # results from Optuna study\n",
    "rf_grid = GridSearchCV(rf_clf, rf_parameters, cv=10, refit='True', n_jobs=-1, verbose=1, scoring='roc_auc')\n",
    "rf_grid.fit(X_train, y_train)\n",
    "rf_model = rf_grid.best_estimator_\n",
    "\n",
    "# update model scoreboard\n",
    "results = results.append({'Model Type' : 'Random Forest',\n",
    "                          'AUC - 10xv' : rf_grid.best_score_,\n",
    "                          'AUC - Valid' : roc_auc_score(y_valid, rf_model.predict_proba(X_valid)[:, 1]),\n",
    "                          'Hyperparameters' : rf_grid.best_params_},\n",
    "                        ignore_index=True)\n",
    "gc.collect()\n",
    "results"
   ]
  },
  {
   "cell_type": "markdown",
   "metadata": {
    "id": "jwWbEzQ8mKTm"
   },
   "source": [
    "### Extra Trees"
   ]
  },
  {
   "cell_type": "code",
   "execution_count": 28,
   "metadata": {
    "id": "8S0cPRp4wZvo"
   },
   "outputs": [],
   "source": [
    "from sklearn.ensemble import ExtraTreesClassifier"
   ]
  },
  {
   "cell_type": "code",
   "execution_count": 29,
   "metadata": {
    "colab": {
     "base_uri": "https://localhost:8080/",
     "height": 255
    },
    "execution": {
     "iopub.execute_input": "2021-12-08T03:15:12.916086Z",
     "iopub.status.busy": "2021-12-08T03:15:12.915774Z",
     "iopub.status.idle": "2021-12-08T03:37:11.774892Z",
     "shell.execute_reply": "2021-12-08T03:37:11.773895Z",
     "shell.execute_reply.started": "2021-12-08T03:15:12.916045Z"
    },
    "id": "Q40nt589mKTm",
    "outputId": "d37586ca-d0c1-4ee1-86fe-f0cf0c07993f"
   },
   "outputs": [
    {
     "name": "stdout",
     "output_type": "stream",
     "text": [
      "Fitting 5 folds for each of 1 candidates, totalling 5 fits\n"
     ]
    },
    {
     "data": {
      "text/html": [
       "<div>\n",
       "<style scoped>\n",
       "    .dataframe tbody tr th:only-of-type {\n",
       "        vertical-align: middle;\n",
       "    }\n",
       "\n",
       "    .dataframe tbody tr th {\n",
       "        vertical-align: top;\n",
       "    }\n",
       "\n",
       "    .dataframe thead th {\n",
       "        text-align: right;\n",
       "    }\n",
       "</style>\n",
       "<table border=\"1\" class=\"dataframe\">\n",
       "  <thead>\n",
       "    <tr style=\"text-align: right;\">\n",
       "      <th></th>\n",
       "      <th>Model Type</th>\n",
       "      <th>AUC - 10xv</th>\n",
       "      <th>AUC - Valid</th>\n",
       "      <th>Hyperparameters</th>\n",
       "    </tr>\n",
       "  </thead>\n",
       "  <tbody>\n",
       "    <tr>\n",
       "      <th>0</th>\n",
       "      <td>Logistic Regression</td>\n",
       "      <td>0.743025</td>\n",
       "      <td>0.747978</td>\n",
       "      <td>{'C': 0.005, 'penalty': 'l2'}</td>\n",
       "    </tr>\n",
       "    <tr>\n",
       "      <th>1</th>\n",
       "      <td>Decision Tree</td>\n",
       "      <td>0.711780</td>\n",
       "      <td>0.718059</td>\n",
       "      <td>{'max_depth': 8, 'min_samples_leaf': 10}</td>\n",
       "    </tr>\n",
       "    <tr>\n",
       "      <th>2</th>\n",
       "      <td>Random Forest</td>\n",
       "      <td>0.738614</td>\n",
       "      <td>0.745623</td>\n",
       "      <td>{'max_depth': 39, 'min_samples_leaf': 37}</td>\n",
       "    </tr>\n",
       "    <tr>\n",
       "      <th>3</th>\n",
       "      <td>Extra Trees</td>\n",
       "      <td>0.730012</td>\n",
       "      <td>0.737158</td>\n",
       "      <td>{'min_samples_leaf': 18, 'min_samples_split': 8, 'n_estimators': 300}</td>\n",
       "    </tr>\n",
       "  </tbody>\n",
       "</table>\n",
       "</div>"
      ],
      "text/plain": [
       "            Model Type  AUC - 10xv  AUC - Valid  \\\n",
       "0  Logistic Regression    0.743025     0.747978   \n",
       "1        Decision Tree    0.711780     0.718059   \n",
       "2        Random Forest    0.738614     0.745623   \n",
       "3          Extra Trees    0.730012     0.737158   \n",
       "\n",
       "                                                         Hyperparameters  \n",
       "0                                          {'C': 0.005, 'penalty': 'l2'}  \n",
       "1                               {'max_depth': 8, 'min_samples_leaf': 10}  \n",
       "2                              {'max_depth': 39, 'min_samples_leaf': 37}  \n",
       "3  {'min_samples_leaf': 18, 'min_samples_split': 8, 'n_estimators': 300}  "
      ]
     },
     "execution_count": 29,
     "metadata": {},
     "output_type": "execute_result"
    }
   ],
   "source": [
    "XT_clf = ExtraTreesClassifier(random_state = 1, class_weight = {0: 11.5, 1:1})                     \n",
    "\n",
    "XT_params={\n",
    "        'n_estimators': [300],\n",
    "        'min_samples_leaf': [18],\n",
    "        'min_samples_split': [8],\n",
    "    },\n",
    "\n",
    "XT_grid = GridSearchCV(XT_clf, XT_params, cv=5, refit='True', n_jobs=-1, verbose=1, scoring='roc_auc')\n",
    "XT_grid.fit(X_train, y_train)\n",
    "\n",
    "XT_model = XT_grid.best_estimator_\n",
    "\n",
    "# update model scoreboard\n",
    "results = results.append({'Model Type' : 'Extra Trees',\n",
    "                          'AUC - 10xv' : XT_grid.best_score_,\n",
    "                          'AUC - Valid' : roc_auc_score(y_valid, XT_model.predict_proba(X_valid)[:, 1]),\n",
    "                          'Hyperparameters' : XT_grid.best_params_},\n",
    "                        ignore_index=True)\n",
    "results"
   ]
  },
  {
   "cell_type": "markdown",
   "metadata": {
    "id": "TWYhsQVAmKTm"
   },
   "source": [
    "### XG Boost"
   ]
  },
  {
   "cell_type": "code",
   "execution_count": 30,
   "metadata": {
    "colab": {
     "base_uri": "https://localhost:8080/"
    },
    "execution": {
     "iopub.execute_input": "2021-12-08T03:37:11.776779Z",
     "iopub.status.busy": "2021-12-08T03:37:11.776524Z",
     "iopub.status.idle": "2021-12-08T04:30:59.035506Z",
     "shell.execute_reply": "2021-12-08T04:30:59.033499Z",
     "shell.execute_reply.started": "2021-12-08T03:37:11.776748Z"
    },
    "id": "vl3pTDKdmKTm",
    "outputId": "6fef409e-f457-4761-ae8f-7e43781c1c2a"
   },
   "outputs": [
    {
     "name": "stderr",
     "output_type": "stream",
     "text": [
      "/opt/anaconda3/lib/python3.8/site-packages/xgboost/sklearn.py:1224: UserWarning: The use of label encoder in XGBClassifier is deprecated and will be removed in a future release. To remove this warning, do the following: 1) Pass option use_label_encoder=False when constructing XGBClassifier object; and 2) Encode your labels (y) as integers starting with 0, i.e. 0, 1, 2, ..., [num_class - 1].\n",
      "  warnings.warn(label_encoder_deprecation_msg, UserWarning)\n"
     ]
    },
    {
     "name": "stdout",
     "output_type": "stream",
     "text": [
      "[23:59:46] WARNING: ../src/learner.cc:1115: Starting in XGBoost 1.3.0, the default evaluation metric used with the objective 'binary:logistic' was changed from 'error' to 'logloss'. Explicitly set eval_metric if you'd like to restore the old behavior.\n",
      "CPU times: user 21min 5s, sys: 1min 6s, total: 22min 11s\n",
      "Wall time: 29min 34s\n"
     ]
    },
    {
     "data": {
      "text/html": [
       "<div>\n",
       "<style scoped>\n",
       "    .dataframe tbody tr th:only-of-type {\n",
       "        vertical-align: middle;\n",
       "    }\n",
       "\n",
       "    .dataframe tbody tr th {\n",
       "        vertical-align: top;\n",
       "    }\n",
       "\n",
       "    .dataframe thead th {\n",
       "        text-align: right;\n",
       "    }\n",
       "</style>\n",
       "<table border=\"1\" class=\"dataframe\">\n",
       "  <thead>\n",
       "    <tr style=\"text-align: right;\">\n",
       "      <th></th>\n",
       "      <th>Model Type</th>\n",
       "      <th>AUC - 10xv</th>\n",
       "      <th>AUC - Valid</th>\n",
       "      <th>Hyperparameters</th>\n",
       "    </tr>\n",
       "  </thead>\n",
       "  <tbody>\n",
       "    <tr>\n",
       "      <th>0</th>\n",
       "      <td>Logistic Regression</td>\n",
       "      <td>0.743025</td>\n",
       "      <td>0.747978</td>\n",
       "      <td>{'C': 0.005, 'penalty': 'l2'}</td>\n",
       "    </tr>\n",
       "    <tr>\n",
       "      <th>1</th>\n",
       "      <td>Decision Tree</td>\n",
       "      <td>0.711780</td>\n",
       "      <td>0.718059</td>\n",
       "      <td>{'max_depth': 8, 'min_samples_leaf': 10}</td>\n",
       "    </tr>\n",
       "    <tr>\n",
       "      <th>2</th>\n",
       "      <td>Random Forest</td>\n",
       "      <td>0.738614</td>\n",
       "      <td>0.745623</td>\n",
       "      <td>{'max_depth': 39, 'min_samples_leaf': 37}</td>\n",
       "    </tr>\n",
       "    <tr>\n",
       "      <th>3</th>\n",
       "      <td>Extra Trees</td>\n",
       "      <td>0.730012</td>\n",
       "      <td>0.737158</td>\n",
       "      <td>{'min_samples_leaf': 18, 'min_samples_split': 8, 'n_estimators': 300}</td>\n",
       "    </tr>\n",
       "    <tr>\n",
       "      <th>4</th>\n",
       "      <td>XG Boost</td>\n",
       "      <td>0.753661</td>\n",
       "      <td>0.760220</td>\n",
       "      <td>{'gamma': 0, 'learning_rate': 0.05, 'max_depth': 6, 'n_estimators': 200}</td>\n",
       "    </tr>\n",
       "  </tbody>\n",
       "</table>\n",
       "</div>"
      ],
      "text/plain": [
       "            Model Type  AUC - 10xv  AUC - Valid  \\\n",
       "0  Logistic Regression    0.743025     0.747978   \n",
       "1        Decision Tree    0.711780     0.718059   \n",
       "2        Random Forest    0.738614     0.745623   \n",
       "3          Extra Trees    0.730012     0.737158   \n",
       "4             XG Boost    0.753661     0.760220   \n",
       "\n",
       "                                                            Hyperparameters  \n",
       "0                                             {'C': 0.005, 'penalty': 'l2'}  \n",
       "1                                  {'max_depth': 8, 'min_samples_leaf': 10}  \n",
       "2                                 {'max_depth': 39, 'min_samples_leaf': 37}  \n",
       "3     {'min_samples_leaf': 18, 'min_samples_split': 8, 'n_estimators': 300}  \n",
       "4  {'gamma': 0, 'learning_rate': 0.05, 'max_depth': 6, 'n_estimators': 200}  "
      ]
     },
     "execution_count": 30,
     "metadata": {},
     "output_type": "execute_result"
    }
   ],
   "source": [
    "%%time\n",
    "import xgboost as xgb\n",
    "\n",
    "XGB_clf = xgb.XGBClassifier() #tree_method = 'gpu_hist', gpu_id = -1)\n",
    "XGB_parameters = {'max_depth': [6], 'n_estimators' : [200], 'learning_rate' : [0.05], 'gamma' : [0]}\n",
    "\n",
    "XGB_grid = GridSearchCV(XGB_clf, XGB_parameters, cv=5, n_jobs=-1, verbose=0, scoring='roc_auc')\n",
    "XGB_grid.fit(X_train, y_train)\n",
    "XGB_model = XGB_grid.best_estimator_\n",
    "\n",
    "# update model scoreboard\n",
    "results = results.append({'Model Type' : 'XG Boost',\n",
    "                          'AUC - 10xv' : XGB_grid.best_score_,\n",
    "                          'AUC - Valid' : roc_auc_score(y_valid, XGB_model.predict_proba(X_valid)[:,1]),\n",
    "                          'Hyperparameters' : XGB_grid.best_params_},\n",
    "                        ignore_index=True)\n",
    "gc.collect()\n",
    "results"
   ]
  },
  {
   "cell_type": "code",
   "execution_count": 31,
   "metadata": {
    "colab": {
     "base_uri": "https://localhost:8080/",
     "height": 237
    },
    "id": "HcVZ8FnW-Wm2",
    "outputId": "239fea59-222e-43d2-e6ea-7c19ffe866b4"
   },
   "outputs": [
    {
     "data": {
      "text/html": [
       "<div>\n",
       "<style scoped>\n",
       "    .dataframe tbody tr th:only-of-type {\n",
       "        vertical-align: middle;\n",
       "    }\n",
       "\n",
       "    .dataframe tbody tr th {\n",
       "        vertical-align: top;\n",
       "    }\n",
       "\n",
       "    .dataframe thead th {\n",
       "        text-align: right;\n",
       "    }\n",
       "</style>\n",
       "<table border=\"1\" class=\"dataframe\">\n",
       "  <thead>\n",
       "    <tr style=\"text-align: right;\">\n",
       "      <th></th>\n",
       "      <th>Model Type</th>\n",
       "      <th>AUC - 10xv</th>\n",
       "      <th>AUC - Valid</th>\n",
       "      <th>Hyperparameters</th>\n",
       "    </tr>\n",
       "  </thead>\n",
       "  <tbody>\n",
       "    <tr>\n",
       "      <th>0</th>\n",
       "      <td>Logistic Regression</td>\n",
       "      <td>0.743025</td>\n",
       "      <td>0.747978</td>\n",
       "      <td>{'C': 0.005, 'penalty': 'l2'}</td>\n",
       "    </tr>\n",
       "    <tr>\n",
       "      <th>1</th>\n",
       "      <td>Decision Tree</td>\n",
       "      <td>0.711780</td>\n",
       "      <td>0.718059</td>\n",
       "      <td>{'max_depth': 8, 'min_samples_leaf': 10}</td>\n",
       "    </tr>\n",
       "    <tr>\n",
       "      <th>2</th>\n",
       "      <td>Random Forest</td>\n",
       "      <td>0.738614</td>\n",
       "      <td>0.745623</td>\n",
       "      <td>{'max_depth': 39, 'min_samples_leaf': 37}</td>\n",
       "    </tr>\n",
       "    <tr>\n",
       "      <th>3</th>\n",
       "      <td>Extra Trees</td>\n",
       "      <td>0.730012</td>\n",
       "      <td>0.737158</td>\n",
       "      <td>{'min_samples_leaf': 18, 'min_samples_split': 8, 'n_estimators': 300}</td>\n",
       "    </tr>\n",
       "    <tr>\n",
       "      <th>4</th>\n",
       "      <td>XG Boost</td>\n",
       "      <td>0.753661</td>\n",
       "      <td>0.760220</td>\n",
       "      <td>{'gamma': 0, 'learning_rate': 0.05, 'max_depth': 6, 'n_estimators': 200}</td>\n",
       "    </tr>\n",
       "  </tbody>\n",
       "</table>\n",
       "</div>"
      ],
      "text/plain": [
       "            Model Type  AUC - 10xv  AUC - Valid  \\\n",
       "0  Logistic Regression    0.743025     0.747978   \n",
       "1        Decision Tree    0.711780     0.718059   \n",
       "2        Random Forest    0.738614     0.745623   \n",
       "3          Extra Trees    0.730012     0.737158   \n",
       "4             XG Boost    0.753661     0.760220   \n",
       "\n",
       "                                                            Hyperparameters  \n",
       "0                                             {'C': 0.005, 'penalty': 'l2'}  \n",
       "1                                  {'max_depth': 8, 'min_samples_leaf': 10}  \n",
       "2                                 {'max_depth': 39, 'min_samples_leaf': 37}  \n",
       "3     {'min_samples_leaf': 18, 'min_samples_split': 8, 'n_estimators': 300}  \n",
       "4  {'gamma': 0, 'learning_rate': 0.05, 'max_depth': 6, 'n_estimators': 200}  "
      ]
     },
     "execution_count": 31,
     "metadata": {},
     "output_type": "execute_result"
    }
   ],
   "source": [
    "results"
   ]
  },
  {
   "cell_type": "markdown",
   "metadata": {
    "id": "knoa-e2GmKTm"
   },
   "source": [
    "### Light GBM"
   ]
  },
  {
   "cell_type": "code",
   "execution_count": 32,
   "metadata": {
    "colab": {
     "base_uri": "https://localhost:8080/",
     "height": 81
    },
    "execution": {
     "iopub.execute_input": "2021-12-08T04:30:59.039224Z",
     "iopub.status.busy": "2021-12-08T04:30:59.038928Z",
     "iopub.status.idle": "2021-12-08T04:43:15.980654Z",
     "shell.execute_reply": "2021-12-08T04:43:15.979227Z",
     "shell.execute_reply.started": "2021-12-08T04:30:59.039189Z"
    },
    "id": "kH42eFa6mKTm",
    "outputId": "12e39fa1-3e52-4803-d972-808c38a4d4f6"
   },
   "outputs": [
    {
     "name": "stdout",
     "output_type": "stream",
     "text": [
      "[LightGBM] [Warning] num_threads is set with nthread=-1, will be overridden by n_jobs=-1. Current value: num_threads=-1\n",
      "[LightGBM] [Warning] num_threads is set with nthread=-1, will be overridden by n_jobs=-1. Current value: num_threads=-1\n",
      "[LightGBM] [Warning] num_threads is set with nthread=-1, will be overridden by n_jobs=-1. Current value: num_threads=-1\n",
      "[LightGBM] [Warning] num_threads is set with nthread=-1, will be overridden by n_jobs=-1. Current value: num_threads=-1\n",
      "[LightGBM] [Warning] num_threads is set with nthread=-1, will be overridden by n_jobs=-1. Current value: num_threads=-1\n",
      "[LightGBM] [Warning] num_threads is set with nthread=-1, will be overridden by n_jobs=-1. Current value: num_threads=-1\n"
     ]
    },
    {
     "name": "stderr",
     "output_type": "stream",
     "text": [
      "/opt/anaconda3/lib/python3.8/site-packages/xgboost/sklearn.py:1224: UserWarning: The use of label encoder in XGBClassifier is deprecated and will be removed in a future release. To remove this warning, do the following: 1) Pass option use_label_encoder=False when constructing XGBClassifier object; and 2) Encode your labels (y) as integers starting with 0, i.e. 0, 1, 2, ..., [num_class - 1].\n",
      "  warnings.warn(label_encoder_deprecation_msg, UserWarning)\n"
     ]
    },
    {
     "name": "stdout",
     "output_type": "stream",
     "text": [
      "[23:33:20] WARNING: ../src/learner.cc:1115: Starting in XGBoost 1.3.0, the default evaluation metric used with the objective 'binary:logistic' was changed from 'error' to 'logloss'. Explicitly set eval_metric if you'd like to restore the old behavior.\n",
      "[23:33:22] WARNING: ../src/learner.cc:1115: Starting in XGBoost 1.3.0, the default evaluation metric used with the objective 'binary:logistic' was changed from 'error' to 'logloss'. Explicitly set eval_metric if you'd like to restore the old behavior.\n"
     ]
    },
    {
     "name": "stderr",
     "output_type": "stream",
     "text": [
      "/opt/anaconda3/lib/python3.8/site-packages/xgboost/sklearn.py:1224: UserWarning: The use of label encoder in XGBClassifier is deprecated and will be removed in a future release. To remove this warning, do the following: 1) Pass option use_label_encoder=False when constructing XGBClassifier object; and 2) Encode your labels (y) as integers starting with 0, i.e. 0, 1, 2, ..., [num_class - 1].\n",
      "  warnings.warn(label_encoder_deprecation_msg, UserWarning)\n"
     ]
    },
    {
     "name": "stdout",
     "output_type": "stream",
     "text": [
      "[23:33:23] WARNING: ../src/learner.cc:1115: Starting in XGBoost 1.3.0, the default evaluation metric used with the objective 'binary:logistic' was changed from 'error' to 'logloss'. Explicitly set eval_metric if you'd like to restore the old behavior.\n"
     ]
    },
    {
     "name": "stderr",
     "output_type": "stream",
     "text": [
      "/opt/anaconda3/lib/python3.8/site-packages/xgboost/sklearn.py:1224: UserWarning: The use of label encoder in XGBClassifier is deprecated and will be removed in a future release. To remove this warning, do the following: 1) Pass option use_label_encoder=False when constructing XGBClassifier object; and 2) Encode your labels (y) as integers starting with 0, i.e. 0, 1, 2, ..., [num_class - 1].\n",
      "  warnings.warn(label_encoder_deprecation_msg, UserWarning)\n"
     ]
    },
    {
     "name": "stdout",
     "output_type": "stream",
     "text": [
      "[23:33:23] WARNING: ../src/learner.cc:1115: Starting in XGBoost 1.3.0, the default evaluation metric used with the objective 'binary:logistic' was changed from 'error' to 'logloss'. Explicitly set eval_metric if you'd like to restore the old behavior.\n"
     ]
    },
    {
     "name": "stderr",
     "output_type": "stream",
     "text": [
      "/opt/anaconda3/lib/python3.8/site-packages/xgboost/sklearn.py:1224: UserWarning: The use of label encoder in XGBClassifier is deprecated and will be removed in a future release. To remove this warning, do the following: 1) Pass option use_label_encoder=False when constructing XGBClassifier object; and 2) Encode your labels (y) as integers starting with 0, i.e. 0, 1, 2, ..., [num_class - 1].\n",
      "  warnings.warn(label_encoder_deprecation_msg, UserWarning)\n"
     ]
    },
    {
     "name": "stdout",
     "output_type": "stream",
     "text": [
      "[23:33:23] WARNING: ../src/learner.cc:1115: Starting in XGBoost 1.3.0, the default evaluation metric used with the objective 'binary:logistic' was changed from 'error' to 'logloss'. Explicitly set eval_metric if you'd like to restore the old behavior.\n"
     ]
    },
    {
     "name": "stderr",
     "output_type": "stream",
     "text": [
      "/opt/anaconda3/lib/python3.8/site-packages/xgboost/sklearn.py:1224: UserWarning: The use of label encoder in XGBClassifier is deprecated and will be removed in a future release. To remove this warning, do the following: 1) Pass option use_label_encoder=False when constructing XGBClassifier object; and 2) Encode your labels (y) as integers starting with 0, i.e. 0, 1, 2, ..., [num_class - 1].\n",
      "  warnings.warn(label_encoder_deprecation_msg, UserWarning)\n"
     ]
    },
    {
     "data": {
      "text/html": [
       "<div>\n",
       "<style scoped>\n",
       "    .dataframe tbody tr th:only-of-type {\n",
       "        vertical-align: middle;\n",
       "    }\n",
       "\n",
       "    .dataframe tbody tr th {\n",
       "        vertical-align: top;\n",
       "    }\n",
       "\n",
       "    .dataframe thead th {\n",
       "        text-align: right;\n",
       "    }\n",
       "</style>\n",
       "<table border=\"1\" class=\"dataframe\">\n",
       "  <thead>\n",
       "    <tr style=\"text-align: right;\">\n",
       "      <th></th>\n",
       "      <th>Model Type</th>\n",
       "      <th>AUC - 10xv</th>\n",
       "      <th>AUC - Valid</th>\n",
       "      <th>Hyperparameters</th>\n",
       "    </tr>\n",
       "  </thead>\n",
       "  <tbody>\n",
       "    <tr>\n",
       "      <th>0</th>\n",
       "      <td>Logistic Regression</td>\n",
       "      <td>0.743025</td>\n",
       "      <td>0.747978</td>\n",
       "      <td>{'C': 0.005, 'penalty': 'l2'}</td>\n",
       "    </tr>\n",
       "    <tr>\n",
       "      <th>1</th>\n",
       "      <td>Decision Tree</td>\n",
       "      <td>0.711780</td>\n",
       "      <td>0.718059</td>\n",
       "      <td>{'max_depth': 8, 'min_samples_leaf': 10}</td>\n",
       "    </tr>\n",
       "    <tr>\n",
       "      <th>2</th>\n",
       "      <td>Random Forest</td>\n",
       "      <td>0.738614</td>\n",
       "      <td>0.745623</td>\n",
       "      <td>{'max_depth': 39, 'min_samples_leaf': 37}</td>\n",
       "    </tr>\n",
       "    <tr>\n",
       "      <th>3</th>\n",
       "      <td>Extra Trees</td>\n",
       "      <td>0.730012</td>\n",
       "      <td>0.737158</td>\n",
       "      <td>{'min_samples_leaf': 18, 'min_samples_split': 8, 'n_estimators': 300}</td>\n",
       "    </tr>\n",
       "    <tr>\n",
       "      <th>4</th>\n",
       "      <td>XG Boost</td>\n",
       "      <td>0.753661</td>\n",
       "      <td>0.760220</td>\n",
       "      <td>{'gamma': 0, 'learning_rate': 0.05, 'max_depth': 6, 'n_estimators': 200}</td>\n",
       "    </tr>\n",
       "    <tr>\n",
       "      <th>5</th>\n",
       "      <td>Light GBM</td>\n",
       "      <td>0.757609</td>\n",
       "      <td>0.763430</td>\n",
       "      <td>{'learning_rate': 0.02}</td>\n",
       "    </tr>\n",
       "  </tbody>\n",
       "</table>\n",
       "</div>"
      ],
      "text/plain": [
       "            Model Type  AUC - 10xv  AUC - Valid  \\\n",
       "0  Logistic Regression    0.743025     0.747978   \n",
       "1        Decision Tree    0.711780     0.718059   \n",
       "2        Random Forest    0.738614     0.745623   \n",
       "3          Extra Trees    0.730012     0.737158   \n",
       "4             XG Boost    0.753661     0.760220   \n",
       "5            Light GBM    0.757609     0.763430   \n",
       "\n",
       "                                                            Hyperparameters  \n",
       "0                                             {'C': 0.005, 'penalty': 'l2'}  \n",
       "1                                  {'max_depth': 8, 'min_samples_leaf': 10}  \n",
       "2                                 {'max_depth': 39, 'min_samples_leaf': 37}  \n",
       "3     {'min_samples_leaf': 18, 'min_samples_split': 8, 'n_estimators': 300}  \n",
       "4  {'gamma': 0, 'learning_rate': 0.05, 'max_depth': 6, 'n_estimators': 200}  \n",
       "5                                                   {'learning_rate': 0.02}  "
      ]
     },
     "execution_count": 32,
     "metadata": {},
     "output_type": "execute_result"
    }
   ],
   "source": [
    "# %%time\n",
    "import lightgbm as lgb\n",
    "\n",
    "params = {'boosting_type': 'gbdt', 'objective': 'binary', 'max_depth': 18,                        # choices for boosting type are 'gbdt', 'rf', 'dart', 'goss'\n",
    "          'nthread': -1, 'num_leaves': 30, 'learning_rate': 0.02, 'n_estimators' : 1600,          # default learning rate is 0.1 but 0.02 feels like the sweet spot.\n",
    "          'max_bin': 512, 'subsample_for_bin': 200, 'subsample': 0.8,\n",
    "          'subsample_freq': 1, 'colsample_bytree': 0.8, \n",
    "          'reg_alpha': 80, 'reg_lambda': 20,                                                      # bumping up the alpha parameter gave us a little boost\n",
    "          'min_split_gain': 0.5, 'min_child_weight': 1,\n",
    "          'min_child_samples': 10, 'scale_pos_weight': 11.5, 'num_class' : 1,                     # about 92% target=0 to 8% target=1 - ratio is about 11.5 to 1\n",
    "          'metric' : 'auc'\n",
    "          }\n",
    "    \n",
    "LGB_clf = lgb.LGBMClassifier(**params)\n",
    "LGB_parameters = {'learning_rate': [0.02]}\n",
    "\n",
    "LGB_grid = GridSearchCV(LGB_clf, LGB_parameters, cv=5, scoring= 'roc_auc')\n",
    "LGB_grid.fit(X_train, y_train)\n",
    "LGB_model = LGB_grid.best_estimator_\n",
    "\n",
    "# update model scoreboard\n",
    "results = results.append({'Model Type' : 'Light GBM',\n",
    "                          'AUC - 10xv' : LGB_grid.best_score_,\n",
    "                          'AUC - Valid' : roc_auc_score(y_valid, LGB_model.predict_proba(X_valid)[:, 1]),\n",
    "                          'Hyperparameters' : LGB_grid.best_params_},\n",
    "                        ignore_index=True)\n",
    "gc.collect()\n",
    "results"
   ]
  },
  {
   "cell_type": "markdown",
   "metadata": {
    "id": "43Qm0cZFmKTm"
   },
   "source": [
    "### Identifying Ensemble Model candidates"
   ]
  },
  {
   "cell_type": "code",
   "execution_count": 33,
   "metadata": {
    "colab": {
     "base_uri": "https://localhost:8080/",
     "height": 283
    },
    "execution": {
     "iopub.execute_input": "2021-12-08T04:43:15.982574Z",
     "iopub.status.busy": "2021-12-08T04:43:15.982269Z",
     "iopub.status.idle": "2021-12-08T04:43:33.575492Z",
     "shell.execute_reply": "2021-12-08T04:43:33.574590Z",
     "shell.execute_reply.started": "2021-12-08T04:43:15.982541Z"
    },
    "id": "XuyfcSHTmKTm",
    "outputId": "e9b4b99f-56b5-426f-934b-d4bddd7e235e"
   },
   "outputs": [
    {
     "data": {
      "text/plain": [
       "[]"
      ]
     },
     "execution_count": 33,
     "metadata": {},
     "output_type": "execute_result"
    },
    {
     "data": {
      "image/png": "[encoded data removed]",
      "text/plain": [
       "<Figure size 432x288 with 1 Axes>"
      ]
     },
     "metadata": {
      "needs_background": "light"
     },
     "output_type": "display_data"
    }
   ],
   "source": [
    "# First, let's capture the predicted probabilities on the validation data set from the models that we liked.\n",
    "Ens1 = lr_model.predict_proba(X_valid)[:, 1]\n",
    "Ens2 = dt_model.predict_proba(X_valid)[:, 1]\n",
    "Ens3 = rf_model.predict_proba(X_valid)[:, 1]\n",
    "Ens4 = XT_model.predict_proba(X_valid)[:, 1]\n",
    "Ens5 = XGB_model.predict_proba(X_valid)[:, 1]\n",
    "Ens6 = LGB_model.predict_proba(X_valid)[:, 1]\n",
    "\n",
    "EnsDF = pd.DataFrame({'LR' : Ens1, 'DT' : Ens2, 'RF' : Ens3, 'XT' : Ens4, 'XGB' : Ens5, 'LGB' : Ens6})\n",
    "\n",
    "sns.heatmap(EnsDF.corr(), annot = True, cmap = \"BuPu\", alpha = 0.5, fmt = \".4f\", cbar = False)\n",
    "plt.plot()"
   ]
  },
  {
   "cell_type": "code",
   "execution_count": 34,
   "metadata": {
    "colab": {
     "base_uri": "https://localhost:8080/",
     "height": 363
    },
    "execution": {
     "iopub.execute_input": "2021-12-08T05:00:20.463948Z",
     "iopub.status.busy": "2021-12-08T05:00:20.463267Z",
     "iopub.status.idle": "2021-12-08T05:00:20.761728Z",
     "shell.execute_reply": "2021-12-08T05:00:20.760897Z",
     "shell.execute_reply.started": "2021-12-08T05:00:20.463908Z"
    },
    "id": "EKman6zXmKTm",
    "outputId": "81e519d9-3632-408d-f144-2a3b7a557ed7"
   },
   "outputs": [
    {
     "data": {
      "text/html": [
       "<div>\n",
       "<style scoped>\n",
       "    .dataframe tbody tr th:only-of-type {\n",
       "        vertical-align: middle;\n",
       "    }\n",
       "\n",
       "    .dataframe tbody tr th {\n",
       "        vertical-align: top;\n",
       "    }\n",
       "\n",
       "    .dataframe thead th {\n",
       "        text-align: right;\n",
       "    }\n",
       "</style>\n",
       "<table border=\"1\" class=\"dataframe\">\n",
       "  <thead>\n",
       "    <tr style=\"text-align: right;\">\n",
       "      <th></th>\n",
       "      <th>Scenario</th>\n",
       "      <th>LR</th>\n",
       "      <th>DT</th>\n",
       "      <th>RF</th>\n",
       "      <th>XT</th>\n",
       "      <th>XGB</th>\n",
       "      <th>LGB</th>\n",
       "      <th>Score</th>\n",
       "    </tr>\n",
       "  </thead>\n",
       "  <tbody>\n",
       "    <tr>\n",
       "      <th>4</th>\n",
       "      <td>Top 2 equal</td>\n",
       "      <td>0.000000</td>\n",
       "      <td>0.000000</td>\n",
       "      <td>0.000000</td>\n",
       "      <td>0.000000</td>\n",
       "      <td>0.500000</td>\n",
       "      <td>0.500000</td>\n",
       "      <td>0.764362</td>\n",
       "    </tr>\n",
       "    <tr>\n",
       "      <th>3</th>\n",
       "      <td>Top 3 equal</td>\n",
       "      <td>0.333333</td>\n",
       "      <td>0.000000</td>\n",
       "      <td>0.000000</td>\n",
       "      <td>0.000000</td>\n",
       "      <td>0.333333</td>\n",
       "      <td>0.333333</td>\n",
       "      <td>0.764104</td>\n",
       "    </tr>\n",
       "    <tr>\n",
       "      <th>6</th>\n",
       "      <td>Half LGB half mixed</td>\n",
       "      <td>0.100000</td>\n",
       "      <td>0.100000</td>\n",
       "      <td>0.100000</td>\n",
       "      <td>0.100000</td>\n",
       "      <td>0.100000</td>\n",
       "      <td>0.500000</td>\n",
       "      <td>0.763881</td>\n",
       "    </tr>\n",
       "    <tr>\n",
       "      <th>2</th>\n",
       "      <td>Top 4 equal</td>\n",
       "      <td>0.250000</td>\n",
       "      <td>0.000000</td>\n",
       "      <td>0.250000</td>\n",
       "      <td>0.000000</td>\n",
       "      <td>0.250000</td>\n",
       "      <td>0.250000</td>\n",
       "      <td>0.763763</td>\n",
       "    </tr>\n",
       "    <tr>\n",
       "      <th>1</th>\n",
       "      <td>Top 5 equal</td>\n",
       "      <td>0.200000</td>\n",
       "      <td>0.000000</td>\n",
       "      <td>0.200000</td>\n",
       "      <td>0.200000</td>\n",
       "      <td>0.200000</td>\n",
       "      <td>0.200000</td>\n",
       "      <td>0.763724</td>\n",
       "    </tr>\n",
       "    <tr>\n",
       "      <th>8</th>\n",
       "      <td>80/15/5 blend</td>\n",
       "      <td>0.150000</td>\n",
       "      <td>0.000000</td>\n",
       "      <td>0.050000</td>\n",
       "      <td>0.000000</td>\n",
       "      <td>0.000000</td>\n",
       "      <td>0.800000</td>\n",
       "      <td>0.763686</td>\n",
       "    </tr>\n",
       "    <tr>\n",
       "      <th>7</th>\n",
       "      <td>70/20/10 blend</td>\n",
       "      <td>0.100000</td>\n",
       "      <td>0.000000</td>\n",
       "      <td>0.000000</td>\n",
       "      <td>0.200000</td>\n",
       "      <td>0.000000</td>\n",
       "      <td>0.700000</td>\n",
       "      <td>0.763645</td>\n",
       "    </tr>\n",
       "    <tr>\n",
       "      <th>9</th>\n",
       "      <td>Pure LGB</td>\n",
       "      <td>0.000000</td>\n",
       "      <td>0.000000</td>\n",
       "      <td>0.000000</td>\n",
       "      <td>0.000000</td>\n",
       "      <td>0.000000</td>\n",
       "      <td>1.000000</td>\n",
       "      <td>0.763430</td>\n",
       "    </tr>\n",
       "    <tr>\n",
       "      <th>5</th>\n",
       "      <td>LGB+LR</td>\n",
       "      <td>0.500000</td>\n",
       "      <td>0.000000</td>\n",
       "      <td>0.000000</td>\n",
       "      <td>0.000000</td>\n",
       "      <td>0.000000</td>\n",
       "      <td>0.500000</td>\n",
       "      <td>0.763373</td>\n",
       "    </tr>\n",
       "    <tr>\n",
       "      <th>0</th>\n",
       "      <td>Equal weight</td>\n",
       "      <td>0.166667</td>\n",
       "      <td>0.166667</td>\n",
       "      <td>0.166667</td>\n",
       "      <td>0.166667</td>\n",
       "      <td>0.166667</td>\n",
       "      <td>0.166667</td>\n",
       "      <td>0.762469</td>\n",
       "    </tr>\n",
       "  </tbody>\n",
       "</table>\n",
       "</div>"
      ],
      "text/plain": [
       "              Scenario        LR        DT        RF        XT       XGB  \\\n",
       "4          Top 2 equal  0.000000  0.000000  0.000000  0.000000  0.500000   \n",
       "3          Top 3 equal  0.333333  0.000000  0.000000  0.000000  0.333333   \n",
       "6  Half LGB half mixed  0.100000  0.100000  0.100000  0.100000  0.100000   \n",
       "2          Top 4 equal  0.250000  0.000000  0.250000  0.000000  0.250000   \n",
       "1          Top 5 equal  0.200000  0.000000  0.200000  0.200000  0.200000   \n",
       "8        80/15/5 blend  0.150000  0.000000  0.050000  0.000000  0.000000   \n",
       "7       70/20/10 blend  0.100000  0.000000  0.000000  0.200000  0.000000   \n",
       "9             Pure LGB  0.000000  0.000000  0.000000  0.000000  0.000000   \n",
       "5               LGB+LR  0.500000  0.000000  0.000000  0.000000  0.000000   \n",
       "0         Equal weight  0.166667  0.166667  0.166667  0.166667  0.166667   \n",
       "\n",
       "        LGB     Score  \n",
       "4  0.500000  0.764362  \n",
       "3  0.333333  0.764104  \n",
       "6  0.500000  0.763881  \n",
       "2  0.250000  0.763763  \n",
       "1  0.200000  0.763724  \n",
       "8  0.800000  0.763686  \n",
       "7  0.700000  0.763645  \n",
       "9  1.000000  0.763430  \n",
       "5  0.500000  0.763373  \n",
       "0  0.166667  0.762469  "
      ]
     },
     "execution_count": 34,
     "metadata": {},
     "output_type": "execute_result"
    }
   ],
   "source": [
    "# Candidates for ensemble models:\n",
    "Scenarios = ('Equal weight', 'Top 5 equal', 'Top 4 equal', 'Top 3 equal', 'Top 2 equal', 'LGB+LR', 'Half LGB half mixed', \n",
    "             '70/20/10 blend', '80/15/5 blend', 'Pure LGB')\n",
    "LR_wt =   (1/6, 1/5, 1/4, 1/3,   0, 1/2,  0.1,  0.1, 0.15,  0)\n",
    "DT_wt  =  (1/6,   0,   0,   0,   0,   0,  0.1,    0,    0,  0)\n",
    "RF_wt  =  (1/6, 1/5, 1/4,   0,   0,   0,  0.1,    0, 0.05,  0)\n",
    "XT_wt  =  (1/6, 1/5,   0,   0,   0,   0,  0.1,  0.2,    0,  0)\n",
    "XGB_wt  = (1/6, 1/5, 1/4, 1/3, 1/2,   0,  0.1,    0,    0,  0) \n",
    "LGB_wt  = (1/6, 1/5, 1/4, 1/3, 1/2, 1/2,  0.5,  0.7,  0.8,  1) \n",
    "\n",
    "def Ensemble(a, b, c, d, e, f):\n",
    "    E = a * Ens1 + b * Ens2 + c * Ens3 + d * Ens4 + e * Ens5 + f * Ens6\n",
    "    return(np.round(roc_auc_score(y_valid, E),6))\n",
    "\n",
    "EnsDF_wt = pd.DataFrame({'Scenario' : Scenarios, 'LR' : LR_wt, 'DT' : DT_wt, 'RF' : RF_wt, 'XT' : XT_wt,  'XGB' : XGB_wt, 'LGB' : LGB_wt})\n",
    "EnsDF_wt['Score'] = EnsDF_wt.apply(lambda row: Ensemble(row['LR'], row['DT'], row['RF'], row['XT'], row['XGB'], row['LGB']),axis = 1)\n",
    "EnsDF_wt.sort_values('Score', ascending = False)"
   ]
  },
  {
   "cell_type": "markdown",
   "metadata": {
    "id": "s2OAGulXmKTm"
   },
   "source": [
    "# Visualizing Model Outputs"
   ]
  },
  {
   "cell_type": "code",
   "execution_count": 35,
   "metadata": {
    "colab": {
     "base_uri": "https://localhost:8080/",
     "height": 206
    },
    "execution": {
     "iopub.execute_input": "2021-12-08T04:43:33.857564Z",
     "iopub.status.busy": "2021-12-08T04:43:33.857293Z",
     "iopub.status.idle": "2021-12-08T04:43:39.145552Z",
     "shell.execute_reply": "2021-12-08T04:43:39.144832Z",
     "shell.execute_reply.started": "2021-12-08T04:43:33.857533Z"
    },
    "id": "uhEEfvQdmKTm",
    "outputId": "d72995e7-fd92-4ee6-844b-d36b8c446cea"
   },
   "outputs": [
    {
     "data": {
      "text/html": [
       "<div>\n",
       "<style scoped>\n",
       "    .dataframe tbody tr th:only-of-type {\n",
       "        vertical-align: middle;\n",
       "    }\n",
       "\n",
       "    .dataframe tbody tr th {\n",
       "        vertical-align: top;\n",
       "    }\n",
       "\n",
       "    .dataframe thead th {\n",
       "        text-align: right;\n",
       "    }\n",
       "</style>\n",
       "<table border=\"1\" class=\"dataframe\">\n",
       "  <thead>\n",
       "    <tr style=\"text-align: right;\">\n",
       "      <th></th>\n",
       "      <th>target</th>\n",
       "      <th>prediction</th>\n",
       "      <th>binary</th>\n",
       "    </tr>\n",
       "  </thead>\n",
       "  <tbody>\n",
       "    <tr>\n",
       "      <th>0</th>\n",
       "      <td>0</td>\n",
       "      <td>0.211743</td>\n",
       "      <td>0.0</td>\n",
       "    </tr>\n",
       "    <tr>\n",
       "      <th>1</th>\n",
       "      <td>0</td>\n",
       "      <td>0.532466</td>\n",
       "      <td>1.0</td>\n",
       "    </tr>\n",
       "    <tr>\n",
       "      <th>2</th>\n",
       "      <td>0</td>\n",
       "      <td>0.088456</td>\n",
       "      <td>0.0</td>\n",
       "    </tr>\n",
       "    <tr>\n",
       "      <th>3</th>\n",
       "      <td>0</td>\n",
       "      <td>0.456025</td>\n",
       "      <td>0.0</td>\n",
       "    </tr>\n",
       "    <tr>\n",
       "      <th>4</th>\n",
       "      <td>1</td>\n",
       "      <td>0.402522</td>\n",
       "      <td>0.0</td>\n",
       "    </tr>\n",
       "  </tbody>\n",
       "</table>\n",
       "</div>"
      ],
      "text/plain": [
       "   target  prediction  binary\n",
       "0       0    0.211743     0.0\n",
       "1       0    0.532466     1.0\n",
       "2       0    0.088456     0.0\n",
       "3       0    0.456025     0.0\n",
       "4       1    0.402522     0.0"
      ]
     },
     "execution_count": 35,
     "metadata": {},
     "output_type": "execute_result"
    }
   ],
   "source": [
    "output_data = pd.DataFrame({'target': y_valid, 'prediction' : LGB_model.predict_proba(X_valid)[:,1]})\n",
    "output_data['binary'] = np.floor(output_data['prediction'] + 0.5)     # convert probabilistic predictions to 0/1 binary predictions\n",
    "output_data.head(5)\n",
    "# output_data.to_pickle(\"./output.pkl\", compression='infer', storage_options=None)"
   ]
  },
  {
   "cell_type": "markdown",
   "metadata": {
    "id": "3cy39LMkmKTn"
   },
   "source": [
    "# Final Model Selection - save data\n"
   ]
  },
  {
   "cell_type": "code",
   "execution_count": 36,
   "metadata": {
    "execution": {
     "iopub.execute_input": "2021-12-08T04:43:39.147872Z",
     "iopub.status.busy": "2021-12-08T04:43:39.147062Z",
     "iopub.status.idle": "2021-12-08T04:49:39.897853Z",
     "shell.execute_reply": "2021-12-08T04:49:39.896556Z",
     "shell.execute_reply.started": "2021-12-08T04:43:39.147832Z"
    },
    "id": "K3DSUGddmKTn",
    "outputId": "4105116c-ba81-4d39-a82f-951434aaff0a"
   },
   "outputs": [
    {
     "name": "stdout",
     "output_type": "stream",
     "text": [
      "[LightGBM] [Warning] num_threads is set with nthread=-1, will be overridden by n_jobs=-1. Current value: num_threads=-1\n"
     ]
    },
    {
     "data": {
      "text/plain": [
       "RandomForestClassifier(max_depth=39, min_samples_leaf=37, random_state=1)"
      ]
     },
     "execution_count": 36,
     "metadata": {},
     "output_type": "execute_result"
    }
   ],
   "source": [
    "gc.collect()\n",
    "\n",
    "# Logistic Regression\n",
    "params_01 = {'C' : 0.005, 'penalty' : 'l2'}\n",
    "final_model_01 = LogisticRegression(**params_01, max_iter = 400, solver = 'lbfgs')\n",
    "final_model_01.fit(X_train, y_train)\n",
    "\n",
    "# Light GBM\n",
    "final_model_02 = lgb.LGBMClassifier(**params)\n",
    "final_model_02.fit(X_train, y_train)\n",
    "\n",
    "# Random Forest\n",
    "params_03 = {'max_depth' : 39, 'min_samples_leaf' : 37}\n",
    "final_model_03 = RandomForestClassifier(**params_03, random_state=1, n_estimators=100)\n",
    "final_model_03.fit(X_train, y_train)"
   ]
  },
  {
   "cell_type": "markdown",
   "metadata": {
    "id": "r4N-QtT3mKTn"
   },
   "source": [
    "# Appendix"
   ]
  },
  {
   "cell_type": "markdown",
   "metadata": {
    "id": "SIaG7FRLmKTn"
   },
   "source": [
    "### Feature Importance (Light GBM)\n"
   ]
  },
  {
   "cell_type": "code",
   "execution_count": 37,
   "metadata": {
    "colab": {
     "base_uri": "https://localhost:8080/",
     "height": 632
    },
    "execution": {
     "iopub.execute_input": "2021-12-08T04:49:39.900000Z",
     "iopub.status.busy": "2021-12-08T04:49:39.899636Z",
     "iopub.status.idle": "2021-12-08T04:51:59.101907Z",
     "shell.execute_reply": "2021-12-08T04:51:59.101285Z",
     "shell.execute_reply.started": "2021-12-08T04:49:39.899954Z"
    },
    "id": "DKNSWGRMmKTn",
    "outputId": "4bad435e-a554-4147-daf1-aa3d516e5d50"
   },
   "outputs": [
    {
     "name": "stderr",
     "output_type": "stream",
     "text": [
      "/opt/anaconda3/lib/python3.8/site-packages/seaborn/_decorators.py:36: FutureWarning: Pass the following variables as keyword args: x, y. From version 0.12, the only valid positional argument will be `data`, and passing other arguments without an explicit keyword will result in an error or misinterpretation.\n",
      "  warnings.warn(\n"
     ]
    },
    {
     "data": {
      "image/png": "[encoded data removed]",
      "text/plain": [
       "<Figure size 576x720 with 1 Axes>"
      ]
     },
     "metadata": {
      "needs_background": "light"
     },
     "output_type": "display_data"
    }
   ],
   "source": [
    "# LGB_model.fit(X_train, y_train)\n",
    "feature_imp = pd.DataFrame(zip(LGB_model.feature_importances_, features), columns=['Value','Feature']).sort_values(by=\"Value\", ascending=False)\n",
    "\n",
    "plot_data = feature_imp.iloc[0:20,:]\n",
    "plt.figure(figsize=[8,10])\n",
    "sns.barplot(plot_data['Value'], plot_data['Feature'], orient = \"h\", color=\"c\")\n",
    "plt.title(\"Top 20 most important features\")\n",
    "plt.savefig(\"imp_features\")\n",
    "plt.show()"
   ]
  },
  {
   "cell_type": "markdown",
   "metadata": {
    "id": "-J1_JlRPmKTn"
   },
   "source": [
    "### Optuna study results for random forest model"
   ]
  },
  {
   "cell_type": "code",
   "execution_count": 38,
   "metadata": {
    "execution": {
     "iopub.execute_input": "2021-12-08T04:51:59.103906Z",
     "iopub.status.busy": "2021-12-08T04:51:59.103459Z",
     "iopub.status.idle": "2021-12-08T04:56:06.576491Z",
     "shell.execute_reply": "2021-12-08T04:56:06.575358Z",
     "shell.execute_reply.started": "2021-12-08T04:51:59.103875Z"
    },
    "id": "HRLQLG3tmKTn",
    "outputId": "41ac01b7-dc1a-4ddc-da78-780f6acfead8"
   },
   "outputs": [
    {
     "name": "stderr",
     "output_type": "stream",
     "text": [
      "\u001b[32m[I 2022-01-11 00:06:16,801]\u001b[0m A new study created in memory with name: no-name-7a09a065-48ac-4adc-8769-1a33c04951d7\u001b[0m\n",
      "/opt/anaconda3/lib/python3.8/site-packages/optuna/study/study.py:393: FutureWarning: `n_jobs` argument has been deprecated in v2.7.0. This feature will be removed in v4.0.0. See https://github.com/optuna/optuna/releases/tag/v2.7.0.\n",
      "  warnings.warn(\n",
      "\u001b[32m[I 2022-01-11 00:06:23,368]\u001b[0m Trial 4 finished with value: 0.7293761027600347 and parameters: {'max_depth': 31, 'min_samples_leaf': 39}. Best is trial 4 with value: 0.7293761027600347.\u001b[0m\n",
      "\u001b[32m[I 2022-01-11 00:06:23,453]\u001b[0m Trial 0 finished with value: 0.729237481404975 and parameters: {'max_depth': 31, 'min_samples_leaf': 36}. Best is trial 4 with value: 0.7293761027600347.\u001b[0m\n",
      "\u001b[32m[I 2022-01-11 00:06:23,505]\u001b[0m Trial 3 finished with value: 0.7272683572814465 and parameters: {'max_depth': 33, 'min_samples_leaf': 37}. Best is trial 4 with value: 0.7293761027600347.\u001b[0m\n",
      "\u001b[32m[I 2022-01-11 00:06:23,676]\u001b[0m Trial 2 finished with value: 0.7283912499942543 and parameters: {'max_depth': 32, 'min_samples_leaf': 34}. Best is trial 4 with value: 0.7293761027600347.\u001b[0m\n",
      "\u001b[32m[I 2022-01-11 00:06:23,718]\u001b[0m Trial 5 finished with value: 0.7281479979937182 and parameters: {'max_depth': 32, 'min_samples_leaf': 33}. Best is trial 4 with value: 0.7293761027600347.\u001b[0m\n",
      "\u001b[32m[I 2022-01-11 00:06:23,735]\u001b[0m Trial 7 finished with value: 0.7303415068571308 and parameters: {'max_depth': 30, 'min_samples_leaf': 30}. Best is trial 7 with value: 0.7303415068571308.\u001b[0m\n",
      "\u001b[32m[I 2022-01-11 00:06:23,774]\u001b[0m Trial 6 finished with value: 0.7281479979937182 and parameters: {'max_depth': 40, 'min_samples_leaf': 33}. Best is trial 7 with value: 0.7303415068571308.\u001b[0m\n",
      "\u001b[32m[I 2022-01-11 00:06:23,869]\u001b[0m Trial 1 finished with value: 0.7281479979937182 and parameters: {'max_depth': 39, 'min_samples_leaf': 33}. Best is trial 7 with value: 0.7303415068571308.\u001b[0m\n",
      "\u001b[32m[I 2022-01-11 00:06:32,140]\u001b[0m Trial 9 finished with value: 0.7287865823757869 and parameters: {'max_depth': 39, 'min_samples_leaf': 38}. Best is trial 7 with value: 0.7303415068571308.\u001b[0m\n",
      "\u001b[32m[I 2022-01-11 00:06:32,267]\u001b[0m Trial 10 finished with value: 0.7292689868802245 and parameters: {'max_depth': 31, 'min_samples_leaf': 35}. Best is trial 7 with value: 0.7303415068571308.\u001b[0m\n",
      "\u001b[32m[I 2022-01-11 00:06:32,409]\u001b[0m Trial 12 finished with value: 0.7292276909497195 and parameters: {'max_depth': 40, 'min_samples_leaf': 40}. Best is trial 7 with value: 0.7303415068571308.\u001b[0m\n",
      "\u001b[32m[I 2022-01-11 00:06:32,422]\u001b[0m Trial 13 finished with value: 0.7296065432635793 and parameters: {'max_depth': 40, 'min_samples_leaf': 32}. Best is trial 7 with value: 0.7303415068571308.\u001b[0m\n",
      "\u001b[32m[I 2022-01-11 00:06:32,446]\u001b[0m Trial 8 finished with value: 0.7283912499942543 and parameters: {'max_depth': 34, 'min_samples_leaf': 34}. Best is trial 7 with value: 0.7303415068571308.\u001b[0m\n",
      "\u001b[32m[I 2022-01-11 00:06:32,546]\u001b[0m Trial 14 finished with value: 0.7292276909497195 and parameters: {'max_depth': 30, 'min_samples_leaf': 40}. Best is trial 7 with value: 0.7303415068571308.\u001b[0m\n",
      "\u001b[32m[I 2022-01-11 00:06:32,581]\u001b[0m Trial 11 finished with value: 0.7272683572814465 and parameters: {'max_depth': 36, 'min_samples_leaf': 37}. Best is trial 7 with value: 0.7303415068571308.\u001b[0m\n",
      "\u001b[32m[I 2022-01-11 00:06:33,039]\u001b[0m Trial 15 finished with value: 0.7296065432635793 and parameters: {'max_depth': 36, 'min_samples_leaf': 32}. Best is trial 7 with value: 0.7303415068571308.\u001b[0m\n",
      "\u001b[32m[I 2022-01-11 00:06:40,477]\u001b[0m Trial 16 finished with value: 0.7296065432635793 and parameters: {'max_depth': 35, 'min_samples_leaf': 32}. Best is trial 7 with value: 0.7303415068571308.\u001b[0m\n",
      "\u001b[32m[I 2022-01-11 00:06:40,845]\u001b[0m Trial 17 finished with value: 0.7302401047362566 and parameters: {'max_depth': 36, 'min_samples_leaf': 30}. Best is trial 7 with value: 0.7303415068571308.\u001b[0m\n",
      "\u001b[32m[I 2022-01-11 00:06:41,023]\u001b[0m Trial 20 finished with value: 0.7302401047362566 and parameters: {'max_depth': 36, 'min_samples_leaf': 30}. Best is trial 7 with value: 0.7303415068571308.\u001b[0m\n",
      "\u001b[32m[I 2022-01-11 00:06:41,165]\u001b[0m Trial 22 finished with value: 0.7302401047362566 and parameters: {'max_depth': 36, 'min_samples_leaf': 30}. Best is trial 7 with value: 0.7303415068571308.\u001b[0m\n",
      "\u001b[32m[I 2022-01-11 00:06:41,190]\u001b[0m Trial 18 finished with value: 0.7302262535449018 and parameters: {'max_depth': 35, 'min_samples_leaf': 30}. Best is trial 7 with value: 0.7303415068571308.\u001b[0m\n",
      "\u001b[32m[I 2022-01-11 00:06:41,243]\u001b[0m Trial 19 finished with value: 0.7302401047362566 and parameters: {'max_depth': 36, 'min_samples_leaf': 30}. Best is trial 7 with value: 0.7303415068571308.\u001b[0m\n",
      "\u001b[32m[I 2022-01-11 00:06:41,383]\u001b[0m Trial 21 finished with value: 0.7302401047362566 and parameters: {'max_depth': 36, 'min_samples_leaf': 30}. Best is trial 7 with value: 0.7303415068571308.\u001b[0m\n",
      "\u001b[32m[I 2022-01-11 00:06:41,737]\u001b[0m Trial 23 finished with value: 0.7303775427549682 and parameters: {'max_depth': 37, 'min_samples_leaf': 30}. Best is trial 23 with value: 0.7303775427549682.\u001b[0m\n",
      "\u001b[32m[I 2022-01-11 00:06:49,153]\u001b[0m Trial 24 finished with value: 0.7303775427549682 and parameters: {'max_depth': 37, 'min_samples_leaf': 30}. Best is trial 23 with value: 0.7303775427549682.\u001b[0m\n",
      "\u001b[32m[I 2022-01-11 00:06:49,493]\u001b[0m Trial 25 finished with value: 0.7303775427549682 and parameters: {'max_depth': 37, 'min_samples_leaf': 30}. Best is trial 23 with value: 0.7303775427549682.\u001b[0m\n",
      "\u001b[32m[I 2022-01-11 00:06:49,598]\u001b[0m Trial 26 finished with value: 0.7303775427549682 and parameters: {'max_depth': 37, 'min_samples_leaf': 30}. Best is trial 23 with value: 0.7303775427549682.\u001b[0m\n",
      "\u001b[32m[I 2022-01-11 00:06:49,740]\u001b[0m Trial 29 finished with value: 0.7302867131401535 and parameters: {'max_depth': 38, 'min_samples_leaf': 31}. Best is trial 23 with value: 0.7303775427549682.\u001b[0m\n",
      "\u001b[32m[I 2022-01-11 00:06:49,854]\u001b[0m Trial 27 finished with value: 0.7302867131401535 and parameters: {'max_depth': 38, 'min_samples_leaf': 31}. Best is trial 23 with value: 0.7303775427549682.\u001b[0m\n",
      "\u001b[32m[I 2022-01-11 00:06:49,882]\u001b[0m Trial 28 finished with value: 0.7303775427549682 and parameters: {'max_depth': 37, 'min_samples_leaf': 30}. Best is trial 23 with value: 0.7303775427549682.\u001b[0m\n",
      "\u001b[32m[I 2022-01-11 00:06:50,042]\u001b[0m Trial 30 finished with value: 0.7302867131401535 and parameters: {'max_depth': 38, 'min_samples_leaf': 31}. Best is trial 23 with value: 0.7303775427549682.\u001b[0m\n",
      "\u001b[32m[I 2022-01-11 00:06:50,414]\u001b[0m Trial 31 finished with value: 0.7302867131401535 and parameters: {'max_depth': 38, 'min_samples_leaf': 31}. Best is trial 23 with value: 0.7303775427549682.\u001b[0m\n",
      "\u001b[32m[I 2022-01-11 00:06:57,816]\u001b[0m Trial 32 finished with value: 0.7302867131401535 and parameters: {'max_depth': 38, 'min_samples_leaf': 31}. Best is trial 23 with value: 0.7303775427549682.\u001b[0m\n",
      "\u001b[32m[I 2022-01-11 00:06:58,171]\u001b[0m Trial 33 finished with value: 0.7302867131401535 and parameters: {'max_depth': 38, 'min_samples_leaf': 31}. Best is trial 23 with value: 0.7303775427549682.\u001b[0m\n",
      "\u001b[32m[I 2022-01-11 00:06:58,317]\u001b[0m Trial 34 finished with value: 0.7302867131401535 and parameters: {'max_depth': 38, 'min_samples_leaf': 31}. Best is trial 23 with value: 0.7303775427549682.\u001b[0m\n",
      "\u001b[32m[I 2022-01-11 00:06:58,431]\u001b[0m Trial 36 finished with value: 0.7302867131401535 and parameters: {'max_depth': 38, 'min_samples_leaf': 31}. Best is trial 23 with value: 0.7303775427549682.\u001b[0m\n",
      "\u001b[32m[I 2022-01-11 00:06:58,596]\u001b[0m Trial 35 finished with value: 0.7302867131401535 and parameters: {'max_depth': 38, 'min_samples_leaf': 31}. Best is trial 23 with value: 0.7303775427549682.\u001b[0m\n",
      "\u001b[32m[I 2022-01-11 00:06:58,698]\u001b[0m Trial 37 finished with value: 0.7302867131401535 and parameters: {'max_depth': 38, 'min_samples_leaf': 31}. Best is trial 23 with value: 0.7303775427549682.\u001b[0m\n",
      "\u001b[32m[I 2022-01-11 00:06:58,718]\u001b[0m Trial 38 finished with value: 0.7302867131401535 and parameters: {'max_depth': 37, 'min_samples_leaf': 31}. Best is trial 23 with value: 0.7303775427549682.\u001b[0m\n",
      "\u001b[32m[I 2022-01-11 00:06:59,057]\u001b[0m Trial 39 finished with value: 0.7302867131401535 and parameters: {'max_depth': 37, 'min_samples_leaf': 31}. Best is trial 23 with value: 0.7303775427549682.\u001b[0m\n"
     ]
    },
    {
     "name": "stderr",
     "output_type": "stream",
     "text": [
      "\u001b[32m[I 2022-01-11 00:07:06,355]\u001b[0m Trial 40 finished with value: 0.7296065432635793 and parameters: {'max_depth': 37, 'min_samples_leaf': 32}. Best is trial 23 with value: 0.7303775427549682.\u001b[0m\n",
      "\u001b[32m[I 2022-01-11 00:07:06,785]\u001b[0m Trial 41 finished with value: 0.7296065432635793 and parameters: {'max_depth': 37, 'min_samples_leaf': 32}. Best is trial 23 with value: 0.7303775427549682.\u001b[0m\n",
      "\u001b[32m[I 2022-01-11 00:07:07,050]\u001b[0m Trial 42 finished with value: 0.7296065432635793 and parameters: {'max_depth': 37, 'min_samples_leaf': 32}. Best is trial 23 with value: 0.7303775427549682.\u001b[0m\n",
      "\u001b[32m[I 2022-01-11 00:07:07,103]\u001b[0m Trial 43 finished with value: 0.7296065432635793 and parameters: {'max_depth': 37, 'min_samples_leaf': 32}. Best is trial 23 with value: 0.7303775427549682.\u001b[0m\n",
      "\u001b[32m[I 2022-01-11 00:07:07,208]\u001b[0m Trial 44 finished with value: 0.7296065432635793 and parameters: {'max_depth': 37, 'min_samples_leaf': 32}. Best is trial 23 with value: 0.7303775427549682.\u001b[0m\n",
      "\u001b[32m[I 2022-01-11 00:07:07,213]\u001b[0m Trial 45 finished with value: 0.7296065432635793 and parameters: {'max_depth': 37, 'min_samples_leaf': 32}. Best is trial 23 with value: 0.7303775427549682.\u001b[0m\n",
      "\u001b[32m[I 2022-01-11 00:07:07,245]\u001b[0m Trial 46 finished with value: 0.7283912499942543 and parameters: {'max_depth': 37, 'min_samples_leaf': 34}. Best is trial 23 with value: 0.7303775427549682.\u001b[0m\n",
      "\u001b[32m[I 2022-01-11 00:07:07,292]\u001b[0m Trial 47 finished with value: 0.7283912499942543 and parameters: {'max_depth': 34, 'min_samples_leaf': 34}. Best is trial 23 with value: 0.7303775427549682.\u001b[0m\n",
      "\u001b[32m[I 2022-01-11 00:07:10,714]\u001b[0m Trial 48 finished with value: 0.7281479979937182 and parameters: {'max_depth': 37, 'min_samples_leaf': 33}. Best is trial 23 with value: 0.7303775427549682.\u001b[0m\n",
      "\u001b[32m[I 2022-01-11 00:07:10,889]\u001b[0m Trial 49 finished with value: 0.7281479979937182 and parameters: {'max_depth': 39, 'min_samples_leaf': 33}. Best is trial 23 with value: 0.7303775427549682.\u001b[0m\n"
     ]
    },
    {
     "name": "stdout",
     "output_type": "stream",
     "text": [
      "Best Tuning Parameters : {'max_depth': 37, 'min_samples_leaf': 30} \n",
      " with roc_auc_score of : 0.7304 \n"
     ]
    }
   ],
   "source": [
    "import optuna as op\n",
    "from optuna import create_study\n",
    "from sklearn import datasets\n",
    "\n",
    "def objective(trial):\n",
    "    maxD = trial.suggest_int('max_depth', 30, 40)                            # try integers in the range 30-40\n",
    "    minSL = trial.suggest_int('min_samples_leaf', 30, 40)\n",
    "    model = RandomForestClassifier(random_state=1, n_estimators=100, max_depth = maxD, min_samples_leaf = minSL)\n",
    "    model.fit(X_train[0:20000], y_train[0:20000])                            # for our study, limit the training data to 20,000\n",
    "    accuracy = roc_auc_score(y_valid, model.predict_proba(X_valid)[:,1])     # score on roc_auc for the validation data\n",
    "    return accuracy\n",
    "\n",
    "study = op.create_study(direction = \"maximize\")\n",
    "study.optimize(objective, n_trials = 50, n_jobs = -1)                        # select how many trials we want. Didn't see any improvement after 20 trials\n",
    "trial = study.best_trial                                                     # ended up being 37 and 30\n",
    "print(\"Best Tuning Parameters : {} \\n with roc_auc_score of : {:.4f} \".format(trial.params,trial.value))"
   ]
  },
  {
   "cell_type": "markdown",
   "metadata": {
    "id": "5p0CMjcGmKTn"
   },
   "source": [
    "### Optuna study results for LGBM"
   ]
  },
  {
   "cell_type": "code",
   "execution_count": 39,
   "metadata": {
    "execution": {
     "iopub.execute_input": "2021-12-08T04:56:06.578766Z",
     "iopub.status.busy": "2021-12-08T04:56:06.578189Z",
     "iopub.status.idle": "2021-12-08T04:57:15.964531Z",
     "shell.execute_reply": "2021-12-08T04:57:15.963820Z",
     "shell.execute_reply.started": "2021-12-08T04:56:06.578722Z"
    },
    "id": "96_RAKbSmKTn",
    "outputId": "78105f44-a713-42b6-d572-b5d660a7c0ff"
   },
   "outputs": [],
   "source": [
    "import lightgbm as lgb\n",
    "from lightgbm import LGBMClassifier\n",
    "import optuna as op\n",
    "from optuna import create_study\n",
    "from sklearn import datasets\n",
    "\n",
    "params = {'boosting_type': 'gbdt', 'objective': 'binary',                           # choices for boosting type are 'gbdt', 'rf', 'dart', 'goss'     \n",
    "          'n_jobs': -1, 'learning_rate': 0.02,                                      # default learning rate is 0.1 - lower numbers are working well\n",
    "          'n_estimators' : 1600, 'num_leaves' : 28, 'max_depth' : 18,               # these all seem pretty reasonable\n",
    "          'max_bin': 512, 'subsample_for_bin': 200, 'subsample': 0.8,\n",
    "          'subsample_freq': 1, 'colsample_bytree': 0.8,                             # 'reg_alpha': 20, 'reg_lambda': 20, \n",
    "          'min_split_gain': 0.5, 'min_child_weight': 1,\n",
    "          'min_child_samples': 10, 'scale_pos_weight': 11.5, 'num_class' : 1,       # about 92% target=0 to 8% target=1 - ratio is about 11.5 to 1\n",
    "          'metric' : 'auc'\n",
    "          }\n",
    "\n",
    "def objective(trial):\n",
    "    l1 = trial.suggest_int('lambda_l1', 0,8)                              # try integers in the range 30-40\n",
    "    l2 = trial.suggest_int('lambda_l2', 0,8)\n",
    "    model = LGBMClassifier(**params, random_state=1, lambda_l1 = l1 * 5, lambda_l2 = l2 * 5)\n",
    "    model.fit(X_train[0:1000], y_train[0:1000])                                              # for our study, limit the training data to 20,000\n",
    "    accuracy = roc_auc_score(y_valid, model.predict_proba(X_valid)[:,1])     # score on roc_auc for the validation data\n",
    "    return accuracy\n",
    "\n",
    "study = op.create_study(direction = \"maximize\")\n",
    "study.optimize(objective, n_trials = 20, n_jobs = -1)                        # select how many trials we want. Didn't see any improvement after 20 trials\n",
    "trial = study.best_trial                                                      # looks like good values are ~28 leaves, ~2400 estimators, max depth ~18\n",
    "print(\"Best Tuning Parameters : {} \\n with roc_auc_score of : {:.4f} \".format(trial.params,trial.value))\n"
   ]
  },
  {
   "cell_type": "markdown",
   "metadata": {
    "id": "SKiW696KzS2M"
   },
   "source": [
    "# Final Model Evaluation"
   ]
  },
  {
   "cell_type": "code",
   "execution_count": 40,
   "metadata": {
    "_cell_guid": "b1076dfc-b9ad-4769-8c92-a6c4dae69d19",
    "_uuid": "8f2839f25d086af736a60e9eeb907d3b93b6e0e5",
    "execution": {
     "iopub.execute_input": "2021-12-08T02:10:38.795387Z",
     "iopub.status.busy": "2021-12-08T02:10:38.795109Z",
     "iopub.status.idle": "2021-12-08T02:10:38.812938Z",
     "shell.execute_reply": "2021-12-08T02:10:38.812276Z",
     "shell.execute_reply.started": "2021-12-08T02:10:38.795362Z"
    },
    "id": "zbjDLM6YzS2Q"
   },
   "outputs": [],
   "source": [
    "from sklearn.metrics import roc_auc_score, roc_curve, confusion_matrix, classification_report, precision_recall_curve\n",
    "import warnings\n",
    "warnings.simplefilter(action='ignore', category=FutureWarning)\n",
    "\n",
    "sns.set(font_scale = 1.2)\n",
    "output_data = pd.DataFrame({'target': y_valid, 'prediction' : LGB_model.predict_proba(X_valid)[:,1]})\n",
    "output_data['binary'] = np.floor(output_data['prediction']+0.5)     # one of many ways to convert probabilistic predictions to 0/1 binary predictions"
   ]
  },
  {
   "cell_type": "markdown",
   "metadata": {
    "id": "fZO9Fle6zS2S"
   },
   "source": [
    "### Plotting the ROC-AUC curve and Precision-Recall Curve"
   ]
  },
  {
   "cell_type": "code",
   "execution_count": 41,
   "metadata": {
    "colab": {
     "base_uri": "https://localhost:8080/",
     "height": 575
    },
    "execution": {
     "iopub.execute_input": "2021-12-08T02:10:38.815948Z",
     "iopub.status.busy": "2021-12-08T02:10:38.815739Z",
     "iopub.status.idle": "2021-12-08T02:10:39.387594Z",
     "shell.execute_reply": "2021-12-08T02:10:39.386763Z",
     "shell.execute_reply.started": "2021-12-08T02:10:38.815923Z"
    },
    "id": "GmWIaptYzS2S",
    "outputId": "39d7960c-8beb-44b5-ecf5-2d4b5a57d611"
   },
   "outputs": [
    {
     "data": {
      "image/png": "[encoded data removed]",
      "text/plain": [
       "<Figure size 1152x576 with 2 Axes>"
      ]
     },
     "metadata": {},
     "output_type": "display_data"
    }
   ],
   "source": [
    "plt.subplots(1, 2, sharey = True, figsize=(16,8))\n",
    "\n",
    "probabilities = output_data.prediction\n",
    "fpr, tpr, thresholds = roc_curve(output_data.target, output_data.prediction)\n",
    "prec, rec, thresholds = precision_recall_curve(output_data.target, output_data.prediction)\n",
    "auc = roc_auc_score(output_data.target, output_data.prediction)\n",
    "no_skill = len(output_data[output_data.target==1]) / len(output_data)\n",
    "\n",
    "plt.subplot(1,2,1)\n",
    "plt.plot(fpr, tpr, label = f'Light GBM, AUC = {np.round(auc,6)}')      # plot the ROC\n",
    "plt.plot([0, 1], [0, 1], label='Random Classifier')                             # plot the orange 45 degree line (sometimes called the \"no skill\" line)\n",
    "plt.title('Receiver operating characteristic curve')\n",
    "plt.xlabel('False positive rate')\n",
    "plt.ylabel('True positive rate')\n",
    "plt.legend()\n",
    "\n",
    "plt.subplot(1,2,2)\n",
    "plt.plot(rec, prec, label='Light GBM Model')                           # plot the PRC\n",
    "plt.plot([0, 1], [no_skill, no_skill], label='Random Classifier')               # plot the no skill line\n",
    "plt.title('Precision - Recall curve')\n",
    "plt.xlabel('Recall')\n",
    "plt.ylabel('Precision')\n",
    "plt.legend()\n",
    "plt.tight_layout()\n",
    "plt.show()"
   ]
  },
  {
   "cell_type": "markdown",
   "metadata": {
    "id": "u1uW2efCzS2T"
   },
   "source": [
    "### Model Statistics: Accuracy, Recall and Precision"
   ]
  },
  {
   "cell_type": "code",
   "execution_count": 42,
   "metadata": {
    "colab": {
     "base_uri": "https://localhost:8080/",
     "height": 206
    },
    "execution": {
     "iopub.execute_input": "2021-12-08T02:10:39.388833Z",
     "iopub.status.busy": "2021-12-08T02:10:39.388635Z",
     "iopub.status.idle": "2021-12-08T02:10:39.544568Z",
     "shell.execute_reply": "2021-12-08T02:10:39.543711Z",
     "shell.execute_reply.started": "2021-12-08T02:10:39.388808Z"
    },
    "id": "s9yfFBrazS2T",
    "outputId": "1e342178-2782-46c9-84a2-adfe1c4e4cc8"
   },
   "outputs": [
    {
     "data": {
      "text/html": [
       "<div>\n",
       "<style scoped>\n",
       "    .dataframe tbody tr th:only-of-type {\n",
       "        vertical-align: middle;\n",
       "    }\n",
       "\n",
       "    .dataframe tbody tr th {\n",
       "        vertical-align: top;\n",
       "    }\n",
       "\n",
       "    .dataframe thead th {\n",
       "        text-align: right;\n",
       "    }\n",
       "</style>\n",
       "<table border=\"1\" class=\"dataframe\">\n",
       "  <thead>\n",
       "    <tr style=\"text-align: right;\">\n",
       "      <th></th>\n",
       "      <th>precision</th>\n",
       "      <th>recall</th>\n",
       "      <th>f1-score</th>\n",
       "      <th>support</th>\n",
       "    </tr>\n",
       "  </thead>\n",
       "  <tbody>\n",
       "    <tr>\n",
       "      <th>0</th>\n",
       "      <td>0.961572</td>\n",
       "      <td>0.718757</td>\n",
       "      <td>0.822621</td>\n",
       "      <td>70672.000000</td>\n",
       "    </tr>\n",
       "    <tr>\n",
       "      <th>1</th>\n",
       "      <td>0.173624</td>\n",
       "      <td>0.672897</td>\n",
       "      <td>0.276026</td>\n",
       "      <td>6206.000000</td>\n",
       "    </tr>\n",
       "    <tr>\n",
       "      <th>accuracy</th>\n",
       "      <td>0.715055</td>\n",
       "      <td>0.715055</td>\n",
       "      <td>0.715055</td>\n",
       "      <td>0.715055</td>\n",
       "    </tr>\n",
       "    <tr>\n",
       "      <th>macro avg</th>\n",
       "      <td>0.567598</td>\n",
       "      <td>0.695827</td>\n",
       "      <td>0.549323</td>\n",
       "      <td>76878.000000</td>\n",
       "    </tr>\n",
       "    <tr>\n",
       "      <th>weighted avg</th>\n",
       "      <td>0.897965</td>\n",
       "      <td>0.715055</td>\n",
       "      <td>0.778497</td>\n",
       "      <td>76878.000000</td>\n",
       "    </tr>\n",
       "  </tbody>\n",
       "</table>\n",
       "</div>"
      ],
      "text/plain": [
       "              precision    recall  f1-score       support\n",
       "0              0.961572  0.718757  0.822621  70672.000000\n",
       "1              0.173624  0.672897  0.276026   6206.000000\n",
       "accuracy       0.715055  0.715055  0.715055      0.715055\n",
       "macro avg      0.567598  0.695827  0.549323  76878.000000\n",
       "weighted avg   0.897965  0.715055  0.778497  76878.000000"
      ]
     },
     "execution_count": 42,
     "metadata": {},
     "output_type": "execute_result"
    }
   ],
   "source": [
    "CR = pd.DataFrame(classification_report(output_data.target, output_data.binary, output_dict=True)).T\n",
    "CR"
   ]
  },
  {
   "cell_type": "code",
   "execution_count": 43,
   "metadata": {
    "colab": {
     "base_uri": "https://localhost:8080/",
     "height": 432
    },
    "execution": {
     "iopub.execute_input": "2021-12-08T02:10:39.546234Z",
     "iopub.status.busy": "2021-12-08T02:10:39.546009Z",
     "iopub.status.idle": "2021-12-08T02:10:40.303453Z",
     "shell.execute_reply": "2021-12-08T02:10:40.302724Z",
     "shell.execute_reply.started": "2021-12-08T02:10:39.546193Z"
    },
    "id": "5EdQ3jLZzS2U",
    "outputId": "a9a25f77-f443-4ffc-d8e4-dd0c2495ff1c"
   },
   "outputs": [
    {
     "data": {
      "image/png": "[encoded data removed]",
      "text/plain": [
       "<Figure size 1080x432 with 3 Axes>"
      ]
     },
     "metadata": {},
     "output_type": "display_data"
    }
   ],
   "source": [
    "labels = ['Paid (0)','Defaulted (1)']\n",
    "\n",
    "CM = confusion_matrix(output_data.target, output_data.binary)              # confusion matrix\n",
    "RM = (((CM.T)/(CM.sum(axis=1))).T)                           # recall matrix\n",
    "PM = (CM/CM.sum(axis=0))                                     # precision matrix\n",
    "\n",
    "plots = [CM, RM, PM]\n",
    "plot_titles = ['Confusion Matrix', 'Recall Matrix', 'Precision Matrix']\n",
    "formats = [\",d\", \".4f\", \".4f\"]\n",
    "fig, axes = plt.subplots(1, 3, sharey = True, figsize=(15,6))\n",
    "# fig.supylabel('Actual Class')\n",
    "# plt.ylabel('Actual Class')\n",
    "for i in range(0,3):\n",
    "    plt.subplot(1,3,i+1)\n",
    "    sns.heatmap(plots[i], annot=True, cmap='Blues', alpha = 0.5, fmt = formats[i], xticklabels = labels, yticklabels=labels, cbar = False)\n",
    "    plt.xlabel('Predicted Class')\n",
    "    plt.title(plot_titles[i])\n",
    "\n",
    "# plt.ylabel('Actual Class')\n",
    "plt.tight_layout()\n",
    "plt.show()"
   ]
  },
  {
   "cell_type": "markdown",
   "metadata": {
    "id": "YYgsxxXCzS2V"
   },
   "source": [
    "### Separation between classes"
   ]
  },
  {
   "cell_type": "code",
   "execution_count": 44,
   "metadata": {
    "colab": {
     "base_uri": "https://localhost:8080/",
     "height": 360
    },
    "execution": {
     "iopub.execute_input": "2021-12-08T02:10:40.305799Z",
     "iopub.status.busy": "2021-12-08T02:10:40.305456Z",
     "iopub.status.idle": "2021-12-08T02:10:40.498886Z",
     "shell.execute_reply": "2021-12-08T02:10:40.498153Z",
     "shell.execute_reply.started": "2021-12-08T02:10:40.305755Z"
    },
    "id": "b0J7tm3kzS2V",
    "outputId": "d894697a-8895-497c-e41d-36ed066b2533"
   },
   "outputs": [
    {
     "data": {
      "image/png": "[encoded data removed]",
      "text/plain": [
       "<Figure size 1080x360 with 1 Axes>"
      ]
     },
     "metadata": {},
     "output_type": "display_data"
    }
   ],
   "source": [
    "plt.figure(figsize=[15,5])\n",
    "sns.boxplot(output_data.prediction, output_data.target, orient = \"h\",color='c')\n",
    "plt.title('Distribution of predicted probabilities - validation data')\n",
    "plt.show()"
   ]
  }
 ],
 "metadata": {
  "accelerator": "GPU",
  "colab": {
   "collapsed_sections": [
    "SIaG7FRLmKTn",
    "-J1_JlRPmKTn",
    "5p0CMjcGmKTn"
   ],
   "machine_shape": "hm",
   "name": "team-3-data-generation-notebook.ipynb",
   "provenance": []
  },
  "kernelspec": {
   "display_name": "Python 3 (ipykernel)",
   "language": "python",
   "name": "python3"
  },
  "language_info": {
   "codemirror_mode": {
    "name": "ipython",
    "version": 3
   },
   "file_extension": ".py",
   "mimetype": "text/x-python",
   "name": "python",
   "nbconvert_exporter": "python",
   "pygments_lexer": "ipython3",
   "version": "3.8.8"
  }
 },
 "nbformat": 4,
 "nbformat_minor": 1
}
